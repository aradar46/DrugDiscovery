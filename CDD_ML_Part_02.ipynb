{
  "cells": [
    {
      "attachments": {},
      "cell_type": "markdown",
      "metadata": {
        "colab_type": "text",
        "id": "l0Y7_lgN4jzM"
      },
      "source": [
        "# Computational Drug Discovery [Part 2]\n",
        "\n",
        " Exploratory Data Analysis**\n",
        "\n",
        "In **Part 2**, we will be performing Descriptor Calculation and Exploratory Data Analysis.\n"
      ]
    },
    {
      "cell_type": "markdown",
      "metadata": {
        "colab_type": "text",
        "id": "o-4IOizard4P"
      },
      "source": [
        "## **Install conda and rdkit**"
      ]
    },
    {
      "cell_type": "code",
      "execution_count": 1,
      "metadata": {
        "colab": {
          "base_uri": "https://localhost:8080/",
          "height": 1000
        },
        "colab_type": "code",
        "id": "H0mjQ2PcrSe5",
        "outputId": "10fb9322-6afb-4873-8c41-0e6bfbe9d0b2"
      },
      "outputs": [],
      "source": [
        "# ! wget https://repo.anaconda.com/miniconda/Miniconda3-py37_4.8.2-Linux-x86_64.sh\n",
        "# ! chmod +x Miniconda3-py37_4.8.2-Linux-x86_64.sh\n",
        "# ! bash ./Miniconda3-py37_4.8.2-Linux-x86_64.sh -b -f -p /usr/local\n",
        "# ! conda install -c rdkit rdkit -y\n",
        "import sys\n",
        "import pandas as pd\n",
        "sys.path.append('/usr/local/lib/python3.7/site-packages/')"
      ]
    },
    {
      "attachments": {},
      "cell_type": "markdown",
      "metadata": {},
      "source": [
        "rdkit is a cheminformatics library that is used to perform various tasks in computational chemistry. It is used to perform tasks such as descriptor calculation, molecular visualization, and molecular similarity calculations."
      ]
    },
    {
      "cell_type": "markdown",
      "metadata": {
        "colab_type": "text",
        "id": "QmxXXFa4wTNG"
      },
      "source": [
        "## **Load bioactivity data**"
      ]
    },
    {
      "cell_type": "code",
      "execution_count": 2,
      "metadata": {
        "colab": {
          "base_uri": "https://localhost:8080/",
          "height": 419
        },
        "colab_type": "code",
        "id": "GCcE8J5XwjtB",
        "outputId": "40a10f00-3d5f-4835-fdf8-2cb5acd8683c"
      },
      "outputs": [
        {
          "data": {
            "text/html": [
              "<div>\n",
              "<style scoped>\n",
              "    .dataframe tbody tr th:only-of-type {\n",
              "        vertical-align: middle;\n",
              "    }\n",
              "\n",
              "    .dataframe tbody tr th {\n",
              "        vertical-align: top;\n",
              "    }\n",
              "\n",
              "    .dataframe thead th {\n",
              "        text-align: right;\n",
              "    }\n",
              "</style>\n",
              "<table border=\"1\" class=\"dataframe\">\n",
              "  <thead>\n",
              "    <tr style=\"text-align: right;\">\n",
              "      <th></th>\n",
              "      <th>molecule_chembl_id</th>\n",
              "      <th>canonical_smiles</th>\n",
              "      <th>standard_value</th>\n",
              "      <th>class</th>\n",
              "    </tr>\n",
              "  </thead>\n",
              "  <tbody>\n",
              "    <tr>\n",
              "      <th>0</th>\n",
              "      <td>CHEMBL3775576</td>\n",
              "      <td>CNC(=O)c1ccc2[nH]nc(Cc3ccc4c(cnn4C)c3)c2c1</td>\n",
              "      <td>26.0</td>\n",
              "      <td>active</td>\n",
              "    </tr>\n",
              "    <tr>\n",
              "      <th>1</th>\n",
              "      <td>CHEMBL3775317</td>\n",
              "      <td>Cn1cc(-c2ccc(Cc3n[nH]c4ccc(C(=O)N5CC[C@@H](O)C...</td>\n",
              "      <td>4.0</td>\n",
              "      <td>active</td>\n",
              "    </tr>\n",
              "    <tr>\n",
              "      <th>2</th>\n",
              "      <td>CHEMBL3798663</td>\n",
              "      <td>O=C1NCCC12CCN(c1c(Cl)cncc1-c1ccc(-c3cnn(CCO)c3...</td>\n",
              "      <td>2.5</td>\n",
              "      <td>active</td>\n",
              "    </tr>\n",
              "  </tbody>\n",
              "</table>\n",
              "</div>"
            ],
            "text/plain": [
              "  molecule_chembl_id                                   canonical_smiles  \\\n",
              "0      CHEMBL3775576         CNC(=O)c1ccc2[nH]nc(Cc3ccc4c(cnn4C)c3)c2c1   \n",
              "1      CHEMBL3775317  Cn1cc(-c2ccc(Cc3n[nH]c4ccc(C(=O)N5CC[C@@H](O)C...   \n",
              "2      CHEMBL3798663  O=C1NCCC12CCN(c1c(Cl)cncc1-c1ccc(-c3cnn(CCO)c3...   \n",
              "\n",
              "   standard_value   class  \n",
              "0            26.0  active  \n",
              "1             4.0  active  \n",
              "2             2.5  active  "
            ]
          },
          "execution_count": 2,
          "metadata": {},
          "output_type": "execute_result"
        }
      ],
      "source": [
        "df = pd.read_csv('Data/03_bioactivity_data_curated.csv')\n",
        "df.head(3)"
      ]
    },
    {
      "cell_type": "code",
      "execution_count": 3,
      "metadata": {},
      "outputs": [
        {
          "name": "stdout",
          "output_type": "stream",
          "text": [
            "<class 'pandas.core.frame.DataFrame'>\n",
            "RangeIndex: 121 entries, 0 to 120\n",
            "Data columns (total 4 columns):\n",
            " #   Column              Non-Null Count  Dtype  \n",
            "---  ------              --------------  -----  \n",
            " 0   molecule_chembl_id  121 non-null    object \n",
            " 1   canonical_smiles    121 non-null    object \n",
            " 2   standard_value      121 non-null    float64\n",
            " 3   class               121 non-null    object \n",
            "dtypes: float64(1), object(3)\n",
            "memory usage: 3.9+ KB\n"
          ]
        }
      ],
      "source": [
        "df.info()"
      ]
    },
    {
      "cell_type": "code",
      "execution_count": 4,
      "metadata": {
        "colab": {
          "base_uri": "https://localhost:8080/",
          "height": 419
        },
        "colab_type": "code",
        "id": "l7a8qW_U85ZK",
        "outputId": "9e073a51-20d4-489c-b1f7-6a44d140c22b"
      },
      "outputs": [
        {
          "data": {
            "text/html": [
              "<div>\n",
              "<style scoped>\n",
              "    .dataframe tbody tr th:only-of-type {\n",
              "        vertical-align: middle;\n",
              "    }\n",
              "\n",
              "    .dataframe tbody tr th {\n",
              "        vertical-align: top;\n",
              "    }\n",
              "\n",
              "    .dataframe thead th {\n",
              "        text-align: right;\n",
              "    }\n",
              "</style>\n",
              "<table border=\"1\" class=\"dataframe\">\n",
              "  <thead>\n",
              "    <tr style=\"text-align: right;\">\n",
              "      <th></th>\n",
              "      <th>molecule_chembl_id</th>\n",
              "      <th>canonical_smiles</th>\n",
              "      <th>standard_value</th>\n",
              "      <th>class</th>\n",
              "    </tr>\n",
              "  </thead>\n",
              "  <tbody>\n",
              "    <tr>\n",
              "      <th>0</th>\n",
              "      <td>CHEMBL3775576</td>\n",
              "      <td>CNC(=O)c1ccc2[nH]nc(Cc3ccc4c(cnn4C)c3)c2c1</td>\n",
              "      <td>26.00</td>\n",
              "      <td>active</td>\n",
              "    </tr>\n",
              "    <tr>\n",
              "      <th>1</th>\n",
              "      <td>CHEMBL3775317</td>\n",
              "      <td>Cn1cc(-c2ccc(Cc3n[nH]c4ccc(C(=O)N5CC[C@@H](O)C...</td>\n",
              "      <td>4.00</td>\n",
              "      <td>active</td>\n",
              "    </tr>\n",
              "    <tr>\n",
              "      <th>2</th>\n",
              "      <td>CHEMBL3798663</td>\n",
              "      <td>O=C1NCCC12CCN(c1c(Cl)cncc1-c1ccc(-c3cnn(CCO)c3...</td>\n",
              "      <td>2.50</td>\n",
              "      <td>active</td>\n",
              "    </tr>\n",
              "    <tr>\n",
              "      <th>3</th>\n",
              "      <td>CHEMBL3798944</td>\n",
              "      <td>CC(C)(O)Cn1cc(-c2ccc(-c3cncc(Cl)c3N3CCC4(CCNC4...</td>\n",
              "      <td>1.40</td>\n",
              "      <td>active</td>\n",
              "    </tr>\n",
              "    <tr>\n",
              "      <th>4</th>\n",
              "      <td>CHEMBL3798318</td>\n",
              "      <td>O=C1NCCC12CCN(c1c(Cl)cncc1-c1ccc(-c3cnn(CCN4CC...</td>\n",
              "      <td>20.60</td>\n",
              "      <td>active</td>\n",
              "    </tr>\n",
              "    <tr>\n",
              "      <th>...</th>\n",
              "      <td>...</td>\n",
              "      <td>...</td>\n",
              "      <td>...</td>\n",
              "      <td>...</td>\n",
              "    </tr>\n",
              "    <tr>\n",
              "      <th>116</th>\n",
              "      <td>CHEMBL4849842</td>\n",
              "      <td>Cn1ncc2cc(-c3cnc4[nH]ccc4c3N3CCC4(CCCNC4=O)CC3...</td>\n",
              "      <td>3.00</td>\n",
              "      <td>active</td>\n",
              "    </tr>\n",
              "    <tr>\n",
              "      <th>117</th>\n",
              "      <td>CHEMBL4878356</td>\n",
              "      <td>Cn1ncc2cc(-c3cnc4[nH]ccc4c3N3CCC4(CC3)CNC4=O)c...</td>\n",
              "      <td>6.00</td>\n",
              "      <td>active</td>\n",
              "    </tr>\n",
              "    <tr>\n",
              "      <th>118</th>\n",
              "      <td>CHEMBL4862777</td>\n",
              "      <td>Cn1ncc2cc(-c3cnc4[nH]ccc4c3N3CCC4(CC3)CNC(=O)O...</td>\n",
              "      <td>6.00</td>\n",
              "      <td>active</td>\n",
              "    </tr>\n",
              "    <tr>\n",
              "      <th>119</th>\n",
              "      <td>CHEMBL4853002</td>\n",
              "      <td>CCOC(=O)/C=C/c1ccncc1-c1ccc2cc[nH]c2c1</td>\n",
              "      <td>45.74</td>\n",
              "      <td>active</td>\n",
              "    </tr>\n",
              "    <tr>\n",
              "      <th>120</th>\n",
              "      <td>CHEMBL4849822</td>\n",
              "      <td>CNC(=O)/C=C/c1ccncc1-c1ccc2cc[nH]c2c1</td>\n",
              "      <td>28.19</td>\n",
              "      <td>active</td>\n",
              "    </tr>\n",
              "  </tbody>\n",
              "</table>\n",
              "<p>121 rows × 4 columns</p>\n",
              "</div>"
            ],
            "text/plain": [
              "    molecule_chembl_id                                   canonical_smiles  \\\n",
              "0        CHEMBL3775576         CNC(=O)c1ccc2[nH]nc(Cc3ccc4c(cnn4C)c3)c2c1   \n",
              "1        CHEMBL3775317  Cn1cc(-c2ccc(Cc3n[nH]c4ccc(C(=O)N5CC[C@@H](O)C...   \n",
              "2        CHEMBL3798663  O=C1NCCC12CCN(c1c(Cl)cncc1-c1ccc(-c3cnn(CCO)c3...   \n",
              "3        CHEMBL3798944  CC(C)(O)Cn1cc(-c2ccc(-c3cncc(Cl)c3N3CCC4(CCNC4...   \n",
              "4        CHEMBL3798318  O=C1NCCC12CCN(c1c(Cl)cncc1-c1ccc(-c3cnn(CCN4CC...   \n",
              "..                 ...                                                ...   \n",
              "116      CHEMBL4849842  Cn1ncc2cc(-c3cnc4[nH]ccc4c3N3CCC4(CCCNC4=O)CC3...   \n",
              "117      CHEMBL4878356  Cn1ncc2cc(-c3cnc4[nH]ccc4c3N3CCC4(CC3)CNC4=O)c...   \n",
              "118      CHEMBL4862777  Cn1ncc2cc(-c3cnc4[nH]ccc4c3N3CCC4(CC3)CNC(=O)O...   \n",
              "119      CHEMBL4853002             CCOC(=O)/C=C/c1ccncc1-c1ccc2cc[nH]c2c1   \n",
              "120      CHEMBL4849822              CNC(=O)/C=C/c1ccncc1-c1ccc2cc[nH]c2c1   \n",
              "\n",
              "     standard_value   class  \n",
              "0             26.00  active  \n",
              "1              4.00  active  \n",
              "2              2.50  active  \n",
              "3              1.40  active  \n",
              "4             20.60  active  \n",
              "..              ...     ...  \n",
              "116            3.00  active  \n",
              "117            6.00  active  \n",
              "118            6.00  active  \n",
              "119           45.74  active  \n",
              "120           28.19  active  \n",
              "\n",
              "[121 rows x 4 columns]"
            ]
          },
          "execution_count": 4,
          "metadata": {},
          "output_type": "execute_result"
        }
      ],
      "source": [
        "df_clean_smiles = df.copy()\n",
        "df_clean_smiles['canonical_smiles'] = df_clean_smiles['canonical_smiles'].str.split('.').apply(lambda x: max(x, key=len))\n",
        "df_clean_smiles"
      ]
    },
    {
      "cell_type": "markdown",
      "metadata": {
        "colab_type": "text",
        "id": "YzN_S4Quro5S"
      },
      "source": [
        "## **Calculate Lipinski descriptors**\n",
        "Christopher Lipinski, a scientist at Pfizer, came up with a set of rule-of-thumb for evaluating the **druglikeness** of compounds. Such druglikeness is based on the Absorption, Distribution, Metabolism and Excretion (ADME) that is also known as the pharmacokinetic profile. Lipinski analyzed all orally active FDA-approved drugs in the formulation of what is to be known as the **Rule-of-Five** or **Lipinski's Rule**.\n",
        "\n",
        "The Lipinski's Rule stated the following:\n",
        "* Molecular weight < 500 Dalton\n",
        "* Octanol-water partition coefficient (LogP) < 5\n",
        "* Hydrogen bond donors < 5\n",
        "* Hydrogen bond acceptors < 10 "
      ]
    },
    {
      "cell_type": "markdown",
      "metadata": {
        "colab_type": "text",
        "id": "9qn_eQcnxY7C"
      },
      "source": [
        "### **Import libraries**"
      ]
    },
    {
      "cell_type": "code",
      "execution_count": 5,
      "metadata": {
        "colab": {},
        "colab_type": "code",
        "id": "CgBjIdT-rnRU"
      },
      "outputs": [],
      "source": [
        "import numpy as np\n",
        "from rdkit import Chem\n",
        "from rdkit.Chem import Descriptors, Lipinski"
      ]
    },
    {
      "cell_type": "markdown",
      "metadata": {
        "colab_type": "text",
        "id": "JsgTV-ByxdMa"
      },
      "source": [
        "### **Calculate descriptors**"
      ]
    },
    {
      "cell_type": "code",
      "execution_count": 6,
      "metadata": {
        "colab": {},
        "colab_type": "code",
        "id": "bCXEY7a9ugO_"
      },
      "outputs": [],
      "source": [
        "# Inspired by: https://codeocean.com/explore/capsules?query=tag:data-curation\n",
        "\n",
        "def lipinski(smiles, verbose=False):\n",
        "\n",
        "    moldata= []\n",
        "    for elem in smiles:\n",
        "        mol=Chem.MolFromSmiles(elem) \n",
        "        moldata.append(mol)\n",
        "       \n",
        "    baseData= np.arange(1,1)\n",
        "    i=0  \n",
        "    for mol in moldata:        \n",
        "       \n",
        "        desc_MolWt = Descriptors.MolWt(mol)\n",
        "        desc_MolLogP = Descriptors.MolLogP(mol)\n",
        "        desc_NumHDonors = Lipinski.NumHDonors(mol)\n",
        "        desc_NumHAcceptors = Lipinski.NumHAcceptors(mol)\n",
        "           \n",
        "        row = np.array([desc_MolWt,\n",
        "                        desc_MolLogP,\n",
        "                        desc_NumHDonors,\n",
        "                        desc_NumHAcceptors])   \n",
        "    \n",
        "        if(i==0):\n",
        "            baseData=row\n",
        "        else:\n",
        "            baseData=np.vstack([baseData, row])\n",
        "        i=i+1      \n",
        "    \n",
        "    columnNames=[\"MW\",\"LogP\",\"NumHDonors\",\"NumHAcceptors\"]   \n",
        "    descriptors = pd.DataFrame(data=baseData,columns=columnNames)\n",
        "    \n",
        "    return descriptors"
      ]
    },
    {
      "cell_type": "code",
      "execution_count": 7,
      "metadata": {
        "colab": {
          "base_uri": "https://localhost:8080/",
          "height": 419
        },
        "colab_type": "code",
        "id": "ThFIFw8IukMY",
        "outputId": "574c050c-44f1-43be-bf6c-bf973d8d0675"
      },
      "outputs": [
        {
          "data": {
            "text/html": [
              "<div>\n",
              "<style scoped>\n",
              "    .dataframe tbody tr th:only-of-type {\n",
              "        vertical-align: middle;\n",
              "    }\n",
              "\n",
              "    .dataframe tbody tr th {\n",
              "        vertical-align: top;\n",
              "    }\n",
              "\n",
              "    .dataframe thead th {\n",
              "        text-align: right;\n",
              "    }\n",
              "</style>\n",
              "<table border=\"1\" class=\"dataframe\">\n",
              "  <thead>\n",
              "    <tr style=\"text-align: right;\">\n",
              "      <th></th>\n",
              "      <th>MW</th>\n",
              "      <th>LogP</th>\n",
              "      <th>NumHDonors</th>\n",
              "      <th>NumHAcceptors</th>\n",
              "    </tr>\n",
              "  </thead>\n",
              "  <tbody>\n",
              "    <tr>\n",
              "      <th>0</th>\n",
              "      <td>319.368</td>\n",
              "      <td>2.4000</td>\n",
              "      <td>2.0</td>\n",
              "      <td>4.0</td>\n",
              "    </tr>\n",
              "    <tr>\n",
              "      <th>1</th>\n",
              "      <td>401.470</td>\n",
              "      <td>2.7610</td>\n",
              "      <td>2.0</td>\n",
              "      <td>5.0</td>\n",
              "    </tr>\n",
              "    <tr>\n",
              "      <th>2</th>\n",
              "      <td>451.958</td>\n",
              "      <td>3.3643</td>\n",
              "      <td>2.0</td>\n",
              "      <td>6.0</td>\n",
              "    </tr>\n",
              "    <tr>\n",
              "      <th>3</th>\n",
              "      <td>480.012</td>\n",
              "      <td>4.1429</td>\n",
              "      <td>2.0</td>\n",
              "      <td>6.0</td>\n",
              "    </tr>\n",
              "    <tr>\n",
              "      <th>4</th>\n",
              "      <td>505.066</td>\n",
              "      <td>4.4678</td>\n",
              "      <td>1.0</td>\n",
              "      <td>6.0</td>\n",
              "    </tr>\n",
              "    <tr>\n",
              "      <th>...</th>\n",
              "      <td>...</td>\n",
              "      <td>...</td>\n",
              "      <td>...</td>\n",
              "      <td>...</td>\n",
              "    </tr>\n",
              "    <tr>\n",
              "      <th>116</th>\n",
              "      <td>414.513</td>\n",
              "      <td>3.6132</td>\n",
              "      <td>2.0</td>\n",
              "      <td>5.0</td>\n",
              "    </tr>\n",
              "    <tr>\n",
              "      <th>117</th>\n",
              "      <td>386.459</td>\n",
              "      <td>2.8330</td>\n",
              "      <td>2.0</td>\n",
              "      <td>5.0</td>\n",
              "    </tr>\n",
              "    <tr>\n",
              "      <th>118</th>\n",
              "      <td>402.458</td>\n",
              "      <td>3.1954</td>\n",
              "      <td>2.0</td>\n",
              "      <td>6.0</td>\n",
              "    </tr>\n",
              "    <tr>\n",
              "      <th>119</th>\n",
              "      <td>292.338</td>\n",
              "      <td>3.8062</td>\n",
              "      <td>1.0</td>\n",
              "      <td>3.0</td>\n",
              "    </tr>\n",
              "    <tr>\n",
              "      <th>120</th>\n",
              "      <td>277.327</td>\n",
              "      <td>2.9891</td>\n",
              "      <td>2.0</td>\n",
              "      <td>2.0</td>\n",
              "    </tr>\n",
              "  </tbody>\n",
              "</table>\n",
              "<p>121 rows × 4 columns</p>\n",
              "</div>"
            ],
            "text/plain": [
              "          MW    LogP  NumHDonors  NumHAcceptors\n",
              "0    319.368  2.4000         2.0            4.0\n",
              "1    401.470  2.7610         2.0            5.0\n",
              "2    451.958  3.3643         2.0            6.0\n",
              "3    480.012  4.1429         2.0            6.0\n",
              "4    505.066  4.4678         1.0            6.0\n",
              "..       ...     ...         ...            ...\n",
              "116  414.513  3.6132         2.0            5.0\n",
              "117  386.459  2.8330         2.0            5.0\n",
              "118  402.458  3.1954         2.0            6.0\n",
              "119  292.338  3.8062         1.0            3.0\n",
              "120  277.327  2.9891         2.0            2.0\n",
              "\n",
              "[121 rows x 4 columns]"
            ]
          },
          "execution_count": 7,
          "metadata": {},
          "output_type": "execute_result"
        }
      ],
      "source": [
        "df_lipinski = lipinski(df_clean_smiles.canonical_smiles)\n",
        "df_lipinski"
      ]
    },
    {
      "cell_type": "markdown",
      "metadata": {
        "colab_type": "text",
        "id": "gUMlPfFrxicj"
      },
      "source": [
        "### **Combine DataFrames**\n",
        "\n",
        "Let's take a look at the 2 DataFrames that will be combined."
      ]
    },
    {
      "cell_type": "code",
      "execution_count": 8,
      "metadata": {
        "colab": {
          "base_uri": "https://localhost:8080/",
          "height": 419
        },
        "colab_type": "code",
        "id": "DaezyM5vwp9n",
        "outputId": "14dfe606-85e1-43ca-aaec-feb5b59f5404"
      },
      "outputs": [
        {
          "data": {
            "text/html": [
              "<div>\n",
              "<style scoped>\n",
              "    .dataframe tbody tr th:only-of-type {\n",
              "        vertical-align: middle;\n",
              "    }\n",
              "\n",
              "    .dataframe tbody tr th {\n",
              "        vertical-align: top;\n",
              "    }\n",
              "\n",
              "    .dataframe thead th {\n",
              "        text-align: right;\n",
              "    }\n",
              "</style>\n",
              "<table border=\"1\" class=\"dataframe\">\n",
              "  <thead>\n",
              "    <tr style=\"text-align: right;\">\n",
              "      <th></th>\n",
              "      <th>MW</th>\n",
              "      <th>LogP</th>\n",
              "      <th>NumHDonors</th>\n",
              "      <th>NumHAcceptors</th>\n",
              "    </tr>\n",
              "  </thead>\n",
              "  <tbody>\n",
              "    <tr>\n",
              "      <th>0</th>\n",
              "      <td>319.368</td>\n",
              "      <td>2.4000</td>\n",
              "      <td>2.0</td>\n",
              "      <td>4.0</td>\n",
              "    </tr>\n",
              "    <tr>\n",
              "      <th>1</th>\n",
              "      <td>401.470</td>\n",
              "      <td>2.7610</td>\n",
              "      <td>2.0</td>\n",
              "      <td>5.0</td>\n",
              "    </tr>\n",
              "    <tr>\n",
              "      <th>2</th>\n",
              "      <td>451.958</td>\n",
              "      <td>3.3643</td>\n",
              "      <td>2.0</td>\n",
              "      <td>6.0</td>\n",
              "    </tr>\n",
              "    <tr>\n",
              "      <th>3</th>\n",
              "      <td>480.012</td>\n",
              "      <td>4.1429</td>\n",
              "      <td>2.0</td>\n",
              "      <td>6.0</td>\n",
              "    </tr>\n",
              "    <tr>\n",
              "      <th>4</th>\n",
              "      <td>505.066</td>\n",
              "      <td>4.4678</td>\n",
              "      <td>1.0</td>\n",
              "      <td>6.0</td>\n",
              "    </tr>\n",
              "    <tr>\n",
              "      <th>...</th>\n",
              "      <td>...</td>\n",
              "      <td>...</td>\n",
              "      <td>...</td>\n",
              "      <td>...</td>\n",
              "    </tr>\n",
              "    <tr>\n",
              "      <th>116</th>\n",
              "      <td>414.513</td>\n",
              "      <td>3.6132</td>\n",
              "      <td>2.0</td>\n",
              "      <td>5.0</td>\n",
              "    </tr>\n",
              "    <tr>\n",
              "      <th>117</th>\n",
              "      <td>386.459</td>\n",
              "      <td>2.8330</td>\n",
              "      <td>2.0</td>\n",
              "      <td>5.0</td>\n",
              "    </tr>\n",
              "    <tr>\n",
              "      <th>118</th>\n",
              "      <td>402.458</td>\n",
              "      <td>3.1954</td>\n",
              "      <td>2.0</td>\n",
              "      <td>6.0</td>\n",
              "    </tr>\n",
              "    <tr>\n",
              "      <th>119</th>\n",
              "      <td>292.338</td>\n",
              "      <td>3.8062</td>\n",
              "      <td>1.0</td>\n",
              "      <td>3.0</td>\n",
              "    </tr>\n",
              "    <tr>\n",
              "      <th>120</th>\n",
              "      <td>277.327</td>\n",
              "      <td>2.9891</td>\n",
              "      <td>2.0</td>\n",
              "      <td>2.0</td>\n",
              "    </tr>\n",
              "  </tbody>\n",
              "</table>\n",
              "<p>121 rows × 4 columns</p>\n",
              "</div>"
            ],
            "text/plain": [
              "          MW    LogP  NumHDonors  NumHAcceptors\n",
              "0    319.368  2.4000         2.0            4.0\n",
              "1    401.470  2.7610         2.0            5.0\n",
              "2    451.958  3.3643         2.0            6.0\n",
              "3    480.012  4.1429         2.0            6.0\n",
              "4    505.066  4.4678         1.0            6.0\n",
              "..       ...     ...         ...            ...\n",
              "116  414.513  3.6132         2.0            5.0\n",
              "117  386.459  2.8330         2.0            5.0\n",
              "118  402.458  3.1954         2.0            6.0\n",
              "119  292.338  3.8062         1.0            3.0\n",
              "120  277.327  2.9891         2.0            2.0\n",
              "\n",
              "[121 rows x 4 columns]"
            ]
          },
          "execution_count": 8,
          "metadata": {},
          "output_type": "execute_result"
        }
      ],
      "source": [
        "df_lipinski"
      ]
    },
    {
      "cell_type": "code",
      "execution_count": 9,
      "metadata": {
        "colab": {
          "base_uri": "https://localhost:8080/",
          "height": 419
        },
        "colab_type": "code",
        "id": "9-ChzM8_wuq_",
        "outputId": "64a6a0c0-e29a-4cdd-c9ea-9b102b63cfe2"
      },
      "outputs": [
        {
          "data": {
            "text/html": [
              "<div>\n",
              "<style scoped>\n",
              "    .dataframe tbody tr th:only-of-type {\n",
              "        vertical-align: middle;\n",
              "    }\n",
              "\n",
              "    .dataframe tbody tr th {\n",
              "        vertical-align: top;\n",
              "    }\n",
              "\n",
              "    .dataframe thead th {\n",
              "        text-align: right;\n",
              "    }\n",
              "</style>\n",
              "<table border=\"1\" class=\"dataframe\">\n",
              "  <thead>\n",
              "    <tr style=\"text-align: right;\">\n",
              "      <th></th>\n",
              "      <th>molecule_chembl_id</th>\n",
              "      <th>canonical_smiles</th>\n",
              "      <th>standard_value</th>\n",
              "      <th>class</th>\n",
              "    </tr>\n",
              "  </thead>\n",
              "  <tbody>\n",
              "    <tr>\n",
              "      <th>0</th>\n",
              "      <td>CHEMBL3775576</td>\n",
              "      <td>CNC(=O)c1ccc2[nH]nc(Cc3ccc4c(cnn4C)c3)c2c1</td>\n",
              "      <td>26.00</td>\n",
              "      <td>active</td>\n",
              "    </tr>\n",
              "    <tr>\n",
              "      <th>1</th>\n",
              "      <td>CHEMBL3775317</td>\n",
              "      <td>Cn1cc(-c2ccc(Cc3n[nH]c4ccc(C(=O)N5CC[C@@H](O)C...</td>\n",
              "      <td>4.00</td>\n",
              "      <td>active</td>\n",
              "    </tr>\n",
              "    <tr>\n",
              "      <th>2</th>\n",
              "      <td>CHEMBL3798663</td>\n",
              "      <td>O=C1NCCC12CCN(c1c(Cl)cncc1-c1ccc(-c3cnn(CCO)c3...</td>\n",
              "      <td>2.50</td>\n",
              "      <td>active</td>\n",
              "    </tr>\n",
              "    <tr>\n",
              "      <th>3</th>\n",
              "      <td>CHEMBL3798944</td>\n",
              "      <td>CC(C)(O)Cn1cc(-c2ccc(-c3cncc(Cl)c3N3CCC4(CCNC4...</td>\n",
              "      <td>1.40</td>\n",
              "      <td>active</td>\n",
              "    </tr>\n",
              "    <tr>\n",
              "      <th>4</th>\n",
              "      <td>CHEMBL3798318</td>\n",
              "      <td>O=C1NCCC12CCN(c1c(Cl)cncc1-c1ccc(-c3cnn(CCN4CC...</td>\n",
              "      <td>20.60</td>\n",
              "      <td>active</td>\n",
              "    </tr>\n",
              "    <tr>\n",
              "      <th>...</th>\n",
              "      <td>...</td>\n",
              "      <td>...</td>\n",
              "      <td>...</td>\n",
              "      <td>...</td>\n",
              "    </tr>\n",
              "    <tr>\n",
              "      <th>116</th>\n",
              "      <td>CHEMBL4849842</td>\n",
              "      <td>Cn1ncc2cc(-c3cnc4[nH]ccc4c3N3CCC4(CCCNC4=O)CC3...</td>\n",
              "      <td>3.00</td>\n",
              "      <td>active</td>\n",
              "    </tr>\n",
              "    <tr>\n",
              "      <th>117</th>\n",
              "      <td>CHEMBL4878356</td>\n",
              "      <td>Cn1ncc2cc(-c3cnc4[nH]ccc4c3N3CCC4(CC3)CNC4=O)c...</td>\n",
              "      <td>6.00</td>\n",
              "      <td>active</td>\n",
              "    </tr>\n",
              "    <tr>\n",
              "      <th>118</th>\n",
              "      <td>CHEMBL4862777</td>\n",
              "      <td>Cn1ncc2cc(-c3cnc4[nH]ccc4c3N3CCC4(CC3)CNC(=O)O...</td>\n",
              "      <td>6.00</td>\n",
              "      <td>active</td>\n",
              "    </tr>\n",
              "    <tr>\n",
              "      <th>119</th>\n",
              "      <td>CHEMBL4853002</td>\n",
              "      <td>CCOC(=O)/C=C/c1ccncc1-c1ccc2cc[nH]c2c1</td>\n",
              "      <td>45.74</td>\n",
              "      <td>active</td>\n",
              "    </tr>\n",
              "    <tr>\n",
              "      <th>120</th>\n",
              "      <td>CHEMBL4849822</td>\n",
              "      <td>CNC(=O)/C=C/c1ccncc1-c1ccc2cc[nH]c2c1</td>\n",
              "      <td>28.19</td>\n",
              "      <td>active</td>\n",
              "    </tr>\n",
              "  </tbody>\n",
              "</table>\n",
              "<p>121 rows × 4 columns</p>\n",
              "</div>"
            ],
            "text/plain": [
              "    molecule_chembl_id                                   canonical_smiles  \\\n",
              "0        CHEMBL3775576         CNC(=O)c1ccc2[nH]nc(Cc3ccc4c(cnn4C)c3)c2c1   \n",
              "1        CHEMBL3775317  Cn1cc(-c2ccc(Cc3n[nH]c4ccc(C(=O)N5CC[C@@H](O)C...   \n",
              "2        CHEMBL3798663  O=C1NCCC12CCN(c1c(Cl)cncc1-c1ccc(-c3cnn(CCO)c3...   \n",
              "3        CHEMBL3798944  CC(C)(O)Cn1cc(-c2ccc(-c3cncc(Cl)c3N3CCC4(CCNC4...   \n",
              "4        CHEMBL3798318  O=C1NCCC12CCN(c1c(Cl)cncc1-c1ccc(-c3cnn(CCN4CC...   \n",
              "..                 ...                                                ...   \n",
              "116      CHEMBL4849842  Cn1ncc2cc(-c3cnc4[nH]ccc4c3N3CCC4(CCCNC4=O)CC3...   \n",
              "117      CHEMBL4878356  Cn1ncc2cc(-c3cnc4[nH]ccc4c3N3CCC4(CC3)CNC4=O)c...   \n",
              "118      CHEMBL4862777  Cn1ncc2cc(-c3cnc4[nH]ccc4c3N3CCC4(CC3)CNC(=O)O...   \n",
              "119      CHEMBL4853002             CCOC(=O)/C=C/c1ccncc1-c1ccc2cc[nH]c2c1   \n",
              "120      CHEMBL4849822              CNC(=O)/C=C/c1ccncc1-c1ccc2cc[nH]c2c1   \n",
              "\n",
              "     standard_value   class  \n",
              "0             26.00  active  \n",
              "1              4.00  active  \n",
              "2              2.50  active  \n",
              "3              1.40  active  \n",
              "4             20.60  active  \n",
              "..              ...     ...  \n",
              "116            3.00  active  \n",
              "117            6.00  active  \n",
              "118            6.00  active  \n",
              "119           45.74  active  \n",
              "120           28.19  active  \n",
              "\n",
              "[121 rows x 4 columns]"
            ]
          },
          "execution_count": 9,
          "metadata": {},
          "output_type": "execute_result"
        }
      ],
      "source": [
        "df"
      ]
    },
    {
      "cell_type": "markdown",
      "metadata": {
        "colab_type": "text",
        "id": "eET6iZ1Aw3oe"
      },
      "source": [
        "Now, let's combine the 2 DataFrame"
      ]
    },
    {
      "cell_type": "code",
      "execution_count": 10,
      "metadata": {
        "colab": {},
        "colab_type": "code",
        "id": "L9nUZC0Ww3gp"
      },
      "outputs": [],
      "source": [
        "df_combined = pd.concat([df,df_lipinski], axis=1)"
      ]
    },
    {
      "cell_type": "code",
      "execution_count": 11,
      "metadata": {
        "colab": {
          "base_uri": "https://localhost:8080/",
          "height": 419
        },
        "colab_type": "code",
        "id": "FRBfBP3QxFJp",
        "outputId": "33528544-8108-4303-a9f2-977c0f6aef91"
      },
      "outputs": [
        {
          "data": {
            "text/html": [
              "<div>\n",
              "<style scoped>\n",
              "    .dataframe tbody tr th:only-of-type {\n",
              "        vertical-align: middle;\n",
              "    }\n",
              "\n",
              "    .dataframe tbody tr th {\n",
              "        vertical-align: top;\n",
              "    }\n",
              "\n",
              "    .dataframe thead th {\n",
              "        text-align: right;\n",
              "    }\n",
              "</style>\n",
              "<table border=\"1\" class=\"dataframe\">\n",
              "  <thead>\n",
              "    <tr style=\"text-align: right;\">\n",
              "      <th></th>\n",
              "      <th>molecule_chembl_id</th>\n",
              "      <th>canonical_smiles</th>\n",
              "      <th>standard_value</th>\n",
              "      <th>class</th>\n",
              "      <th>MW</th>\n",
              "      <th>LogP</th>\n",
              "      <th>NumHDonors</th>\n",
              "      <th>NumHAcceptors</th>\n",
              "    </tr>\n",
              "  </thead>\n",
              "  <tbody>\n",
              "    <tr>\n",
              "      <th>0</th>\n",
              "      <td>CHEMBL3775576</td>\n",
              "      <td>CNC(=O)c1ccc2[nH]nc(Cc3ccc4c(cnn4C)c3)c2c1</td>\n",
              "      <td>26.00</td>\n",
              "      <td>active</td>\n",
              "      <td>319.368</td>\n",
              "      <td>2.4000</td>\n",
              "      <td>2.0</td>\n",
              "      <td>4.0</td>\n",
              "    </tr>\n",
              "    <tr>\n",
              "      <th>1</th>\n",
              "      <td>CHEMBL3775317</td>\n",
              "      <td>Cn1cc(-c2ccc(Cc3n[nH]c4ccc(C(=O)N5CC[C@@H](O)C...</td>\n",
              "      <td>4.00</td>\n",
              "      <td>active</td>\n",
              "      <td>401.470</td>\n",
              "      <td>2.7610</td>\n",
              "      <td>2.0</td>\n",
              "      <td>5.0</td>\n",
              "    </tr>\n",
              "    <tr>\n",
              "      <th>2</th>\n",
              "      <td>CHEMBL3798663</td>\n",
              "      <td>O=C1NCCC12CCN(c1c(Cl)cncc1-c1ccc(-c3cnn(CCO)c3...</td>\n",
              "      <td>2.50</td>\n",
              "      <td>active</td>\n",
              "      <td>451.958</td>\n",
              "      <td>3.3643</td>\n",
              "      <td>2.0</td>\n",
              "      <td>6.0</td>\n",
              "    </tr>\n",
              "    <tr>\n",
              "      <th>3</th>\n",
              "      <td>CHEMBL3798944</td>\n",
              "      <td>CC(C)(O)Cn1cc(-c2ccc(-c3cncc(Cl)c3N3CCC4(CCNC4...</td>\n",
              "      <td>1.40</td>\n",
              "      <td>active</td>\n",
              "      <td>480.012</td>\n",
              "      <td>4.1429</td>\n",
              "      <td>2.0</td>\n",
              "      <td>6.0</td>\n",
              "    </tr>\n",
              "    <tr>\n",
              "      <th>4</th>\n",
              "      <td>CHEMBL3798318</td>\n",
              "      <td>O=C1NCCC12CCN(c1c(Cl)cncc1-c1ccc(-c3cnn(CCN4CC...</td>\n",
              "      <td>20.60</td>\n",
              "      <td>active</td>\n",
              "      <td>505.066</td>\n",
              "      <td>4.4678</td>\n",
              "      <td>1.0</td>\n",
              "      <td>6.0</td>\n",
              "    </tr>\n",
              "    <tr>\n",
              "      <th>...</th>\n",
              "      <td>...</td>\n",
              "      <td>...</td>\n",
              "      <td>...</td>\n",
              "      <td>...</td>\n",
              "      <td>...</td>\n",
              "      <td>...</td>\n",
              "      <td>...</td>\n",
              "      <td>...</td>\n",
              "    </tr>\n",
              "    <tr>\n",
              "      <th>116</th>\n",
              "      <td>CHEMBL4849842</td>\n",
              "      <td>Cn1ncc2cc(-c3cnc4[nH]ccc4c3N3CCC4(CCCNC4=O)CC3...</td>\n",
              "      <td>3.00</td>\n",
              "      <td>active</td>\n",
              "      <td>414.513</td>\n",
              "      <td>3.6132</td>\n",
              "      <td>2.0</td>\n",
              "      <td>5.0</td>\n",
              "    </tr>\n",
              "    <tr>\n",
              "      <th>117</th>\n",
              "      <td>CHEMBL4878356</td>\n",
              "      <td>Cn1ncc2cc(-c3cnc4[nH]ccc4c3N3CCC4(CC3)CNC4=O)c...</td>\n",
              "      <td>6.00</td>\n",
              "      <td>active</td>\n",
              "      <td>386.459</td>\n",
              "      <td>2.8330</td>\n",
              "      <td>2.0</td>\n",
              "      <td>5.0</td>\n",
              "    </tr>\n",
              "    <tr>\n",
              "      <th>118</th>\n",
              "      <td>CHEMBL4862777</td>\n",
              "      <td>Cn1ncc2cc(-c3cnc4[nH]ccc4c3N3CCC4(CC3)CNC(=O)O...</td>\n",
              "      <td>6.00</td>\n",
              "      <td>active</td>\n",
              "      <td>402.458</td>\n",
              "      <td>3.1954</td>\n",
              "      <td>2.0</td>\n",
              "      <td>6.0</td>\n",
              "    </tr>\n",
              "    <tr>\n",
              "      <th>119</th>\n",
              "      <td>CHEMBL4853002</td>\n",
              "      <td>CCOC(=O)/C=C/c1ccncc1-c1ccc2cc[nH]c2c1</td>\n",
              "      <td>45.74</td>\n",
              "      <td>active</td>\n",
              "      <td>292.338</td>\n",
              "      <td>3.8062</td>\n",
              "      <td>1.0</td>\n",
              "      <td>3.0</td>\n",
              "    </tr>\n",
              "    <tr>\n",
              "      <th>120</th>\n",
              "      <td>CHEMBL4849822</td>\n",
              "      <td>CNC(=O)/C=C/c1ccncc1-c1ccc2cc[nH]c2c1</td>\n",
              "      <td>28.19</td>\n",
              "      <td>active</td>\n",
              "      <td>277.327</td>\n",
              "      <td>2.9891</td>\n",
              "      <td>2.0</td>\n",
              "      <td>2.0</td>\n",
              "    </tr>\n",
              "  </tbody>\n",
              "</table>\n",
              "<p>121 rows × 8 columns</p>\n",
              "</div>"
            ],
            "text/plain": [
              "    molecule_chembl_id                                   canonical_smiles  \\\n",
              "0        CHEMBL3775576         CNC(=O)c1ccc2[nH]nc(Cc3ccc4c(cnn4C)c3)c2c1   \n",
              "1        CHEMBL3775317  Cn1cc(-c2ccc(Cc3n[nH]c4ccc(C(=O)N5CC[C@@H](O)C...   \n",
              "2        CHEMBL3798663  O=C1NCCC12CCN(c1c(Cl)cncc1-c1ccc(-c3cnn(CCO)c3...   \n",
              "3        CHEMBL3798944  CC(C)(O)Cn1cc(-c2ccc(-c3cncc(Cl)c3N3CCC4(CCNC4...   \n",
              "4        CHEMBL3798318  O=C1NCCC12CCN(c1c(Cl)cncc1-c1ccc(-c3cnn(CCN4CC...   \n",
              "..                 ...                                                ...   \n",
              "116      CHEMBL4849842  Cn1ncc2cc(-c3cnc4[nH]ccc4c3N3CCC4(CCCNC4=O)CC3...   \n",
              "117      CHEMBL4878356  Cn1ncc2cc(-c3cnc4[nH]ccc4c3N3CCC4(CC3)CNC4=O)c...   \n",
              "118      CHEMBL4862777  Cn1ncc2cc(-c3cnc4[nH]ccc4c3N3CCC4(CC3)CNC(=O)O...   \n",
              "119      CHEMBL4853002             CCOC(=O)/C=C/c1ccncc1-c1ccc2cc[nH]c2c1   \n",
              "120      CHEMBL4849822              CNC(=O)/C=C/c1ccncc1-c1ccc2cc[nH]c2c1   \n",
              "\n",
              "     standard_value   class       MW    LogP  NumHDonors  NumHAcceptors  \n",
              "0             26.00  active  319.368  2.4000         2.0            4.0  \n",
              "1              4.00  active  401.470  2.7610         2.0            5.0  \n",
              "2              2.50  active  451.958  3.3643         2.0            6.0  \n",
              "3              1.40  active  480.012  4.1429         2.0            6.0  \n",
              "4             20.60  active  505.066  4.4678         1.0            6.0  \n",
              "..              ...     ...      ...     ...         ...            ...  \n",
              "116            3.00  active  414.513  3.6132         2.0            5.0  \n",
              "117            6.00  active  386.459  2.8330         2.0            5.0  \n",
              "118            6.00  active  402.458  3.1954         2.0            6.0  \n",
              "119           45.74  active  292.338  3.8062         1.0            3.0  \n",
              "120           28.19  active  277.327  2.9891         2.0            2.0  \n",
              "\n",
              "[121 rows x 8 columns]"
            ]
          },
          "execution_count": 11,
          "metadata": {},
          "output_type": "execute_result"
        }
      ],
      "source": [
        "df_combined"
      ]
    },
    {
      "cell_type": "markdown",
      "metadata": {
        "colab_type": "text",
        "id": "e0MLOedB6j96"
      },
      "source": [
        "### **Convert IC50 to pIC50**\n",
        "To allow **IC50** data to be more uniformly distributed, we will convert **IC50** to the negative logarithmic scale which is essentially **-log10(IC50)**.\n",
        "\n",
        "This custom function pIC50() will accept a DataFrame as input and will:\n",
        "* Take the IC50 values from the ``standard_value`` column and converts it from nM to M by multiplying the value by 10$^{-9}$\n",
        "* Take the molar value and apply -log10\n",
        "* Delete the ``standard_value`` column and create a new ``pIC50`` column"
      ]
    },
    {
      "cell_type": "code",
      "execution_count": 12,
      "metadata": {
        "colab": {},
        "colab_type": "code",
        "id": "UXMuFQoQ4pZF"
      },
      "outputs": [],
      "source": [
        "# https://github.com/chaninlab/estrogen-receptor-alpha-qsar/blob/master/02_ER_alpha_RO5.ipynb\n",
        "\n",
        "import numpy as np\n",
        "\n",
        "def pIC50(input):\n",
        "    pIC50 = []\n",
        "\n",
        "    for i in input['standard_value_norm']:\n",
        "        molar = i*(10**-9) # Converts nM to M\n",
        "        pIC50.append(-np.log10(molar))\n",
        "\n",
        "    input['pIC50'] = pIC50\n",
        "    x = input.drop('standard_value_norm', 1)\n",
        "        \n",
        "    return x"
      ]
    },
    {
      "cell_type": "markdown",
      "metadata": {
        "colab_type": "text",
        "id": "WU5Fh1h2OaJJ"
      },
      "source": [
        "Point to note: Values greater than 100,000,000 will be fixed at 100,000,000 otherwise the negative logarithmic value will become negative."
      ]
    },
    {
      "cell_type": "code",
      "execution_count": 13,
      "metadata": {
        "colab": {
          "base_uri": "https://localhost:8080/",
          "height": 170
        },
        "colab_type": "code",
        "id": "QuUTFUpcR1wU",
        "outputId": "3e3fe22d-8587-42e3-c92e-396d37877589"
      },
      "outputs": [
        {
          "data": {
            "text/plain": [
              "count      121.000000\n",
              "mean       447.793058\n",
              "std       3067.824212\n",
              "min          0.360000\n",
              "25%          2.100000\n",
              "50%          6.600000\n",
              "75%         25.000000\n",
              "max      30000.000000\n",
              "Name: standard_value, dtype: float64"
            ]
          },
          "execution_count": 13,
          "metadata": {},
          "output_type": "execute_result"
        }
      ],
      "source": [
        "df_combined.standard_value.describe()"
      ]
    },
    {
      "cell_type": "code",
      "execution_count": 14,
      "metadata": {
        "colab": {
          "base_uri": "https://localhost:8080/",
          "height": 34
        },
        "colab_type": "code",
        "id": "QyiJ0to5N6Z_",
        "outputId": "58b38ec2-8f7d-4f44-cc35-1ef394f57854"
      },
      "outputs": [
        {
          "data": {
            "text/plain": [
              "1.0"
            ]
          },
          "execution_count": 14,
          "metadata": {},
          "output_type": "execute_result"
        }
      ],
      "source": [
        "-np.log10( (10**-9)* 100000000 )"
      ]
    },
    {
      "cell_type": "code",
      "execution_count": 15,
      "metadata": {
        "colab": {
          "base_uri": "https://localhost:8080/",
          "height": 34
        },
        "colab_type": "code",
        "id": "9S1aJkOYOP6K",
        "outputId": "0d9c6937-7c36-4844-f84b-9a95a22802dc"
      },
      "outputs": [
        {
          "data": {
            "text/plain": [
              "-1.0"
            ]
          },
          "execution_count": 15,
          "metadata": {},
          "output_type": "execute_result"
        }
      ],
      "source": [
        "-np.log10( (10**-9)* 10000000000 )"
      ]
    },
    {
      "cell_type": "code",
      "execution_count": 16,
      "metadata": {
        "colab": {},
        "colab_type": "code",
        "id": "iktHDDwtPDwl"
      },
      "outputs": [],
      "source": [
        "def norm_value(input):\n",
        "    norm = []\n",
        "\n",
        "    for i in input['standard_value']:\n",
        "        if i > 100000000:\n",
        "          i = 100000000\n",
        "        norm.append(i)\n",
        "\n",
        "    input['standard_value_norm'] = norm\n",
        "    x = input.drop('standard_value', 1)\n",
        "        \n",
        "    return x"
      ]
    },
    {
      "cell_type": "markdown",
      "metadata": {
        "colab_type": "text",
        "id": "EkrTs7RfPsrH"
      },
      "source": [
        "We will first apply the norm_value() function so that the values in the standard_value column is normalized."
      ]
    },
    {
      "cell_type": "code",
      "execution_count": 17,
      "metadata": {
        "colab": {
          "base_uri": "https://localhost:8080/",
          "height": 419
        },
        "colab_type": "code",
        "id": "EX2Mj2-ZP1Rj",
        "outputId": "8e07791e-d693-4d1b-9f82-f396d34c6338"
      },
      "outputs": [
        {
          "name": "stderr",
          "output_type": "stream",
          "text": [
            "/tmp/ipykernel_21225/3416609517.py:10: FutureWarning: In a future version of pandas all arguments of DataFrame.drop except for the argument 'labels' will be keyword-only.\n",
            "  x = input.drop('standard_value', 1)\n"
          ]
        },
        {
          "data": {
            "text/html": [
              "<div>\n",
              "<style scoped>\n",
              "    .dataframe tbody tr th:only-of-type {\n",
              "        vertical-align: middle;\n",
              "    }\n",
              "\n",
              "    .dataframe tbody tr th {\n",
              "        vertical-align: top;\n",
              "    }\n",
              "\n",
              "    .dataframe thead th {\n",
              "        text-align: right;\n",
              "    }\n",
              "</style>\n",
              "<table border=\"1\" class=\"dataframe\">\n",
              "  <thead>\n",
              "    <tr style=\"text-align: right;\">\n",
              "      <th></th>\n",
              "      <th>molecule_chembl_id</th>\n",
              "      <th>canonical_smiles</th>\n",
              "      <th>class</th>\n",
              "      <th>MW</th>\n",
              "      <th>LogP</th>\n",
              "      <th>NumHDonors</th>\n",
              "      <th>NumHAcceptors</th>\n",
              "      <th>standard_value_norm</th>\n",
              "    </tr>\n",
              "  </thead>\n",
              "  <tbody>\n",
              "    <tr>\n",
              "      <th>0</th>\n",
              "      <td>CHEMBL3775576</td>\n",
              "      <td>CNC(=O)c1ccc2[nH]nc(Cc3ccc4c(cnn4C)c3)c2c1</td>\n",
              "      <td>active</td>\n",
              "      <td>319.368</td>\n",
              "      <td>2.4000</td>\n",
              "      <td>2.0</td>\n",
              "      <td>4.0</td>\n",
              "      <td>26.00</td>\n",
              "    </tr>\n",
              "    <tr>\n",
              "      <th>1</th>\n",
              "      <td>CHEMBL3775317</td>\n",
              "      <td>Cn1cc(-c2ccc(Cc3n[nH]c4ccc(C(=O)N5CC[C@@H](O)C...</td>\n",
              "      <td>active</td>\n",
              "      <td>401.470</td>\n",
              "      <td>2.7610</td>\n",
              "      <td>2.0</td>\n",
              "      <td>5.0</td>\n",
              "      <td>4.00</td>\n",
              "    </tr>\n",
              "    <tr>\n",
              "      <th>2</th>\n",
              "      <td>CHEMBL3798663</td>\n",
              "      <td>O=C1NCCC12CCN(c1c(Cl)cncc1-c1ccc(-c3cnn(CCO)c3...</td>\n",
              "      <td>active</td>\n",
              "      <td>451.958</td>\n",
              "      <td>3.3643</td>\n",
              "      <td>2.0</td>\n",
              "      <td>6.0</td>\n",
              "      <td>2.50</td>\n",
              "    </tr>\n",
              "    <tr>\n",
              "      <th>3</th>\n",
              "      <td>CHEMBL3798944</td>\n",
              "      <td>CC(C)(O)Cn1cc(-c2ccc(-c3cncc(Cl)c3N3CCC4(CCNC4...</td>\n",
              "      <td>active</td>\n",
              "      <td>480.012</td>\n",
              "      <td>4.1429</td>\n",
              "      <td>2.0</td>\n",
              "      <td>6.0</td>\n",
              "      <td>1.40</td>\n",
              "    </tr>\n",
              "    <tr>\n",
              "      <th>4</th>\n",
              "      <td>CHEMBL3798318</td>\n",
              "      <td>O=C1NCCC12CCN(c1c(Cl)cncc1-c1ccc(-c3cnn(CCN4CC...</td>\n",
              "      <td>active</td>\n",
              "      <td>505.066</td>\n",
              "      <td>4.4678</td>\n",
              "      <td>1.0</td>\n",
              "      <td>6.0</td>\n",
              "      <td>20.60</td>\n",
              "    </tr>\n",
              "    <tr>\n",
              "      <th>...</th>\n",
              "      <td>...</td>\n",
              "      <td>...</td>\n",
              "      <td>...</td>\n",
              "      <td>...</td>\n",
              "      <td>...</td>\n",
              "      <td>...</td>\n",
              "      <td>...</td>\n",
              "      <td>...</td>\n",
              "    </tr>\n",
              "    <tr>\n",
              "      <th>116</th>\n",
              "      <td>CHEMBL4849842</td>\n",
              "      <td>Cn1ncc2cc(-c3cnc4[nH]ccc4c3N3CCC4(CCCNC4=O)CC3...</td>\n",
              "      <td>active</td>\n",
              "      <td>414.513</td>\n",
              "      <td>3.6132</td>\n",
              "      <td>2.0</td>\n",
              "      <td>5.0</td>\n",
              "      <td>3.00</td>\n",
              "    </tr>\n",
              "    <tr>\n",
              "      <th>117</th>\n",
              "      <td>CHEMBL4878356</td>\n",
              "      <td>Cn1ncc2cc(-c3cnc4[nH]ccc4c3N3CCC4(CC3)CNC4=O)c...</td>\n",
              "      <td>active</td>\n",
              "      <td>386.459</td>\n",
              "      <td>2.8330</td>\n",
              "      <td>2.0</td>\n",
              "      <td>5.0</td>\n",
              "      <td>6.00</td>\n",
              "    </tr>\n",
              "    <tr>\n",
              "      <th>118</th>\n",
              "      <td>CHEMBL4862777</td>\n",
              "      <td>Cn1ncc2cc(-c3cnc4[nH]ccc4c3N3CCC4(CC3)CNC(=O)O...</td>\n",
              "      <td>active</td>\n",
              "      <td>402.458</td>\n",
              "      <td>3.1954</td>\n",
              "      <td>2.0</td>\n",
              "      <td>6.0</td>\n",
              "      <td>6.00</td>\n",
              "    </tr>\n",
              "    <tr>\n",
              "      <th>119</th>\n",
              "      <td>CHEMBL4853002</td>\n",
              "      <td>CCOC(=O)/C=C/c1ccncc1-c1ccc2cc[nH]c2c1</td>\n",
              "      <td>active</td>\n",
              "      <td>292.338</td>\n",
              "      <td>3.8062</td>\n",
              "      <td>1.0</td>\n",
              "      <td>3.0</td>\n",
              "      <td>45.74</td>\n",
              "    </tr>\n",
              "    <tr>\n",
              "      <th>120</th>\n",
              "      <td>CHEMBL4849822</td>\n",
              "      <td>CNC(=O)/C=C/c1ccncc1-c1ccc2cc[nH]c2c1</td>\n",
              "      <td>active</td>\n",
              "      <td>277.327</td>\n",
              "      <td>2.9891</td>\n",
              "      <td>2.0</td>\n",
              "      <td>2.0</td>\n",
              "      <td>28.19</td>\n",
              "    </tr>\n",
              "  </tbody>\n",
              "</table>\n",
              "<p>121 rows × 8 columns</p>\n",
              "</div>"
            ],
            "text/plain": [
              "    molecule_chembl_id                                   canonical_smiles  \\\n",
              "0        CHEMBL3775576         CNC(=O)c1ccc2[nH]nc(Cc3ccc4c(cnn4C)c3)c2c1   \n",
              "1        CHEMBL3775317  Cn1cc(-c2ccc(Cc3n[nH]c4ccc(C(=O)N5CC[C@@H](O)C...   \n",
              "2        CHEMBL3798663  O=C1NCCC12CCN(c1c(Cl)cncc1-c1ccc(-c3cnn(CCO)c3...   \n",
              "3        CHEMBL3798944  CC(C)(O)Cn1cc(-c2ccc(-c3cncc(Cl)c3N3CCC4(CCNC4...   \n",
              "4        CHEMBL3798318  O=C1NCCC12CCN(c1c(Cl)cncc1-c1ccc(-c3cnn(CCN4CC...   \n",
              "..                 ...                                                ...   \n",
              "116      CHEMBL4849842  Cn1ncc2cc(-c3cnc4[nH]ccc4c3N3CCC4(CCCNC4=O)CC3...   \n",
              "117      CHEMBL4878356  Cn1ncc2cc(-c3cnc4[nH]ccc4c3N3CCC4(CC3)CNC4=O)c...   \n",
              "118      CHEMBL4862777  Cn1ncc2cc(-c3cnc4[nH]ccc4c3N3CCC4(CC3)CNC(=O)O...   \n",
              "119      CHEMBL4853002             CCOC(=O)/C=C/c1ccncc1-c1ccc2cc[nH]c2c1   \n",
              "120      CHEMBL4849822              CNC(=O)/C=C/c1ccncc1-c1ccc2cc[nH]c2c1   \n",
              "\n",
              "      class       MW    LogP  NumHDonors  NumHAcceptors  standard_value_norm  \n",
              "0    active  319.368  2.4000         2.0            4.0                26.00  \n",
              "1    active  401.470  2.7610         2.0            5.0                 4.00  \n",
              "2    active  451.958  3.3643         2.0            6.0                 2.50  \n",
              "3    active  480.012  4.1429         2.0            6.0                 1.40  \n",
              "4    active  505.066  4.4678         1.0            6.0                20.60  \n",
              "..      ...      ...     ...         ...            ...                  ...  \n",
              "116  active  414.513  3.6132         2.0            5.0                 3.00  \n",
              "117  active  386.459  2.8330         2.0            5.0                 6.00  \n",
              "118  active  402.458  3.1954         2.0            6.0                 6.00  \n",
              "119  active  292.338  3.8062         1.0            3.0                45.74  \n",
              "120  active  277.327  2.9891         2.0            2.0                28.19  \n",
              "\n",
              "[121 rows x 8 columns]"
            ]
          },
          "execution_count": 17,
          "metadata": {},
          "output_type": "execute_result"
        }
      ],
      "source": [
        "df_norm = norm_value(df_combined)\n",
        "df_norm"
      ]
    },
    {
      "cell_type": "code",
      "execution_count": 18,
      "metadata": {
        "colab": {
          "base_uri": "https://localhost:8080/",
          "height": 170
        },
        "colab_type": "code",
        "id": "hb1eKrIjRiH9",
        "outputId": "8435d28b-9774-4567-8134-51bfc3fc8271"
      },
      "outputs": [
        {
          "data": {
            "text/plain": [
              "count      121.000000\n",
              "mean       447.793058\n",
              "std       3067.824212\n",
              "min          0.360000\n",
              "25%          2.100000\n",
              "50%          6.600000\n",
              "75%         25.000000\n",
              "max      30000.000000\n",
              "Name: standard_value_norm, dtype: float64"
            ]
          },
          "execution_count": 18,
          "metadata": {},
          "output_type": "execute_result"
        }
      ],
      "source": [
        "df_norm.standard_value_norm.describe()"
      ]
    },
    {
      "cell_type": "code",
      "execution_count": 19,
      "metadata": {
        "colab": {
          "base_uri": "https://localhost:8080/",
          "height": 419
        },
        "colab_type": "code",
        "id": "UDKZzmK57YnS",
        "outputId": "89ec9de3-c71e-44fb-86a5-3b4172cf9e63"
      },
      "outputs": [
        {
          "name": "stderr",
          "output_type": "stream",
          "text": [
            "/tmp/ipykernel_21225/3442786292.py:13: FutureWarning: In a future version of pandas all arguments of DataFrame.drop except for the argument 'labels' will be keyword-only.\n",
            "  x = input.drop('standard_value_norm', 1)\n"
          ]
        },
        {
          "data": {
            "text/html": [
              "<div>\n",
              "<style scoped>\n",
              "    .dataframe tbody tr th:only-of-type {\n",
              "        vertical-align: middle;\n",
              "    }\n",
              "\n",
              "    .dataframe tbody tr th {\n",
              "        vertical-align: top;\n",
              "    }\n",
              "\n",
              "    .dataframe thead th {\n",
              "        text-align: right;\n",
              "    }\n",
              "</style>\n",
              "<table border=\"1\" class=\"dataframe\">\n",
              "  <thead>\n",
              "    <tr style=\"text-align: right;\">\n",
              "      <th></th>\n",
              "      <th>molecule_chembl_id</th>\n",
              "      <th>canonical_smiles</th>\n",
              "      <th>class</th>\n",
              "      <th>MW</th>\n",
              "      <th>LogP</th>\n",
              "      <th>NumHDonors</th>\n",
              "      <th>NumHAcceptors</th>\n",
              "      <th>pIC50</th>\n",
              "    </tr>\n",
              "  </thead>\n",
              "  <tbody>\n",
              "    <tr>\n",
              "      <th>0</th>\n",
              "      <td>CHEMBL3775576</td>\n",
              "      <td>CNC(=O)c1ccc2[nH]nc(Cc3ccc4c(cnn4C)c3)c2c1</td>\n",
              "      <td>active</td>\n",
              "      <td>319.368</td>\n",
              "      <td>2.4000</td>\n",
              "      <td>2.0</td>\n",
              "      <td>4.0</td>\n",
              "      <td>7.585027</td>\n",
              "    </tr>\n",
              "    <tr>\n",
              "      <th>1</th>\n",
              "      <td>CHEMBL3775317</td>\n",
              "      <td>Cn1cc(-c2ccc(Cc3n[nH]c4ccc(C(=O)N5CC[C@@H](O)C...</td>\n",
              "      <td>active</td>\n",
              "      <td>401.470</td>\n",
              "      <td>2.7610</td>\n",
              "      <td>2.0</td>\n",
              "      <td>5.0</td>\n",
              "      <td>8.397940</td>\n",
              "    </tr>\n",
              "    <tr>\n",
              "      <th>2</th>\n",
              "      <td>CHEMBL3798663</td>\n",
              "      <td>O=C1NCCC12CCN(c1c(Cl)cncc1-c1ccc(-c3cnn(CCO)c3...</td>\n",
              "      <td>active</td>\n",
              "      <td>451.958</td>\n",
              "      <td>3.3643</td>\n",
              "      <td>2.0</td>\n",
              "      <td>6.0</td>\n",
              "      <td>8.602060</td>\n",
              "    </tr>\n",
              "    <tr>\n",
              "      <th>3</th>\n",
              "      <td>CHEMBL3798944</td>\n",
              "      <td>CC(C)(O)Cn1cc(-c2ccc(-c3cncc(Cl)c3N3CCC4(CCNC4...</td>\n",
              "      <td>active</td>\n",
              "      <td>480.012</td>\n",
              "      <td>4.1429</td>\n",
              "      <td>2.0</td>\n",
              "      <td>6.0</td>\n",
              "      <td>8.853872</td>\n",
              "    </tr>\n",
              "    <tr>\n",
              "      <th>4</th>\n",
              "      <td>CHEMBL3798318</td>\n",
              "      <td>O=C1NCCC12CCN(c1c(Cl)cncc1-c1ccc(-c3cnn(CCN4CC...</td>\n",
              "      <td>active</td>\n",
              "      <td>505.066</td>\n",
              "      <td>4.4678</td>\n",
              "      <td>1.0</td>\n",
              "      <td>6.0</td>\n",
              "      <td>7.686133</td>\n",
              "    </tr>\n",
              "    <tr>\n",
              "      <th>...</th>\n",
              "      <td>...</td>\n",
              "      <td>...</td>\n",
              "      <td>...</td>\n",
              "      <td>...</td>\n",
              "      <td>...</td>\n",
              "      <td>...</td>\n",
              "      <td>...</td>\n",
              "      <td>...</td>\n",
              "    </tr>\n",
              "    <tr>\n",
              "      <th>116</th>\n",
              "      <td>CHEMBL4849842</td>\n",
              "      <td>Cn1ncc2cc(-c3cnc4[nH]ccc4c3N3CCC4(CCCNC4=O)CC3...</td>\n",
              "      <td>active</td>\n",
              "      <td>414.513</td>\n",
              "      <td>3.6132</td>\n",
              "      <td>2.0</td>\n",
              "      <td>5.0</td>\n",
              "      <td>8.522879</td>\n",
              "    </tr>\n",
              "    <tr>\n",
              "      <th>117</th>\n",
              "      <td>CHEMBL4878356</td>\n",
              "      <td>Cn1ncc2cc(-c3cnc4[nH]ccc4c3N3CCC4(CC3)CNC4=O)c...</td>\n",
              "      <td>active</td>\n",
              "      <td>386.459</td>\n",
              "      <td>2.8330</td>\n",
              "      <td>2.0</td>\n",
              "      <td>5.0</td>\n",
              "      <td>8.221849</td>\n",
              "    </tr>\n",
              "    <tr>\n",
              "      <th>118</th>\n",
              "      <td>CHEMBL4862777</td>\n",
              "      <td>Cn1ncc2cc(-c3cnc4[nH]ccc4c3N3CCC4(CC3)CNC(=O)O...</td>\n",
              "      <td>active</td>\n",
              "      <td>402.458</td>\n",
              "      <td>3.1954</td>\n",
              "      <td>2.0</td>\n",
              "      <td>6.0</td>\n",
              "      <td>8.221849</td>\n",
              "    </tr>\n",
              "    <tr>\n",
              "      <th>119</th>\n",
              "      <td>CHEMBL4853002</td>\n",
              "      <td>CCOC(=O)/C=C/c1ccncc1-c1ccc2cc[nH]c2c1</td>\n",
              "      <td>active</td>\n",
              "      <td>292.338</td>\n",
              "      <td>3.8062</td>\n",
              "      <td>1.0</td>\n",
              "      <td>3.0</td>\n",
              "      <td>7.339704</td>\n",
              "    </tr>\n",
              "    <tr>\n",
              "      <th>120</th>\n",
              "      <td>CHEMBL4849822</td>\n",
              "      <td>CNC(=O)/C=C/c1ccncc1-c1ccc2cc[nH]c2c1</td>\n",
              "      <td>active</td>\n",
              "      <td>277.327</td>\n",
              "      <td>2.9891</td>\n",
              "      <td>2.0</td>\n",
              "      <td>2.0</td>\n",
              "      <td>7.549905</td>\n",
              "    </tr>\n",
              "  </tbody>\n",
              "</table>\n",
              "<p>121 rows × 8 columns</p>\n",
              "</div>"
            ],
            "text/plain": [
              "    molecule_chembl_id                                   canonical_smiles  \\\n",
              "0        CHEMBL3775576         CNC(=O)c1ccc2[nH]nc(Cc3ccc4c(cnn4C)c3)c2c1   \n",
              "1        CHEMBL3775317  Cn1cc(-c2ccc(Cc3n[nH]c4ccc(C(=O)N5CC[C@@H](O)C...   \n",
              "2        CHEMBL3798663  O=C1NCCC12CCN(c1c(Cl)cncc1-c1ccc(-c3cnn(CCO)c3...   \n",
              "3        CHEMBL3798944  CC(C)(O)Cn1cc(-c2ccc(-c3cncc(Cl)c3N3CCC4(CCNC4...   \n",
              "4        CHEMBL3798318  O=C1NCCC12CCN(c1c(Cl)cncc1-c1ccc(-c3cnn(CCN4CC...   \n",
              "..                 ...                                                ...   \n",
              "116      CHEMBL4849842  Cn1ncc2cc(-c3cnc4[nH]ccc4c3N3CCC4(CCCNC4=O)CC3...   \n",
              "117      CHEMBL4878356  Cn1ncc2cc(-c3cnc4[nH]ccc4c3N3CCC4(CC3)CNC4=O)c...   \n",
              "118      CHEMBL4862777  Cn1ncc2cc(-c3cnc4[nH]ccc4c3N3CCC4(CC3)CNC(=O)O...   \n",
              "119      CHEMBL4853002             CCOC(=O)/C=C/c1ccncc1-c1ccc2cc[nH]c2c1   \n",
              "120      CHEMBL4849822              CNC(=O)/C=C/c1ccncc1-c1ccc2cc[nH]c2c1   \n",
              "\n",
              "      class       MW    LogP  NumHDonors  NumHAcceptors     pIC50  \n",
              "0    active  319.368  2.4000         2.0            4.0  7.585027  \n",
              "1    active  401.470  2.7610         2.0            5.0  8.397940  \n",
              "2    active  451.958  3.3643         2.0            6.0  8.602060  \n",
              "3    active  480.012  4.1429         2.0            6.0  8.853872  \n",
              "4    active  505.066  4.4678         1.0            6.0  7.686133  \n",
              "..      ...      ...     ...         ...            ...       ...  \n",
              "116  active  414.513  3.6132         2.0            5.0  8.522879  \n",
              "117  active  386.459  2.8330         2.0            5.0  8.221849  \n",
              "118  active  402.458  3.1954         2.0            6.0  8.221849  \n",
              "119  active  292.338  3.8062         1.0            3.0  7.339704  \n",
              "120  active  277.327  2.9891         2.0            2.0  7.549905  \n",
              "\n",
              "[121 rows x 8 columns]"
            ]
          },
          "execution_count": 19,
          "metadata": {},
          "output_type": "execute_result"
        }
      ],
      "source": [
        "df_final = pIC50(df_norm)\n",
        "df_final"
      ]
    },
    {
      "cell_type": "code",
      "execution_count": 20,
      "metadata": {
        "colab": {
          "base_uri": "https://localhost:8080/",
          "height": 170
        },
        "colab_type": "code",
        "id": "BoqY53udSTYC",
        "outputId": "13f3b5ff-acf5-4136-b8a3-f494066d4824"
      },
      "outputs": [
        {
          "data": {
            "text/plain": [
              "count    121.000000\n",
              "mean       8.009916\n",
              "std        0.883712\n",
              "min        4.522879\n",
              "25%        7.602060\n",
              "50%        8.180456\n",
              "75%        8.677781\n",
              "max        9.443697\n",
              "Name: pIC50, dtype: float64"
            ]
          },
          "execution_count": 20,
          "metadata": {},
          "output_type": "execute_result"
        }
      ],
      "source": [
        "df_final.pIC50.describe()"
      ]
    },
    {
      "cell_type": "markdown",
      "metadata": {
        "colab_type": "text",
        "id": "TTB-xkOcgwRX"
      },
      "source": [
        "Let's write this to CSV file."
      ]
    },
    {
      "cell_type": "code",
      "execution_count": 21,
      "metadata": {
        "colab": {},
        "colab_type": "code",
        "id": "sbZfHUSOgykw"
      },
      "outputs": [],
      "source": [
        "df_final.to_csv('Data/04_bioactivity_data_3class_pIC50.csv')"
      ]
    },
    {
      "cell_type": "markdown",
      "metadata": {
        "colab_type": "text",
        "id": "05vHBWvqaQtb"
      },
      "source": [
        "### **Removing the 'intermediate' bioactivity class**\n",
        "Here, we will be removing the ``intermediate`` class from our data set."
      ]
    },
    {
      "cell_type": "code",
      "execution_count": 22,
      "metadata": {
        "colab": {
          "base_uri": "https://localhost:8080/",
          "height": 419
        },
        "colab_type": "code",
        "id": "HmrndhDW3c7Z",
        "outputId": "dbc2255b-ed9c-460c-c12c-1795a735c9e7"
      },
      "outputs": [
        {
          "data": {
            "text/html": [
              "<div>\n",
              "<style scoped>\n",
              "    .dataframe tbody tr th:only-of-type {\n",
              "        vertical-align: middle;\n",
              "    }\n",
              "\n",
              "    .dataframe tbody tr th {\n",
              "        vertical-align: top;\n",
              "    }\n",
              "\n",
              "    .dataframe thead th {\n",
              "        text-align: right;\n",
              "    }\n",
              "</style>\n",
              "<table border=\"1\" class=\"dataframe\">\n",
              "  <thead>\n",
              "    <tr style=\"text-align: right;\">\n",
              "      <th></th>\n",
              "      <th>molecule_chembl_id</th>\n",
              "      <th>canonical_smiles</th>\n",
              "      <th>class</th>\n",
              "      <th>MW</th>\n",
              "      <th>LogP</th>\n",
              "      <th>NumHDonors</th>\n",
              "      <th>NumHAcceptors</th>\n",
              "      <th>pIC50</th>\n",
              "    </tr>\n",
              "  </thead>\n",
              "  <tbody>\n",
              "    <tr>\n",
              "      <th>0</th>\n",
              "      <td>CHEMBL3775576</td>\n",
              "      <td>CNC(=O)c1ccc2[nH]nc(Cc3ccc4c(cnn4C)c3)c2c1</td>\n",
              "      <td>active</td>\n",
              "      <td>319.368</td>\n",
              "      <td>2.4000</td>\n",
              "      <td>2.0</td>\n",
              "      <td>4.0</td>\n",
              "      <td>7.585027</td>\n",
              "    </tr>\n",
              "    <tr>\n",
              "      <th>1</th>\n",
              "      <td>CHEMBL3775317</td>\n",
              "      <td>Cn1cc(-c2ccc(Cc3n[nH]c4ccc(C(=O)N5CC[C@@H](O)C...</td>\n",
              "      <td>active</td>\n",
              "      <td>401.470</td>\n",
              "      <td>2.7610</td>\n",
              "      <td>2.0</td>\n",
              "      <td>5.0</td>\n",
              "      <td>8.397940</td>\n",
              "    </tr>\n",
              "    <tr>\n",
              "      <th>2</th>\n",
              "      <td>CHEMBL3798663</td>\n",
              "      <td>O=C1NCCC12CCN(c1c(Cl)cncc1-c1ccc(-c3cnn(CCO)c3...</td>\n",
              "      <td>active</td>\n",
              "      <td>451.958</td>\n",
              "      <td>3.3643</td>\n",
              "      <td>2.0</td>\n",
              "      <td>6.0</td>\n",
              "      <td>8.602060</td>\n",
              "    </tr>\n",
              "    <tr>\n",
              "      <th>3</th>\n",
              "      <td>CHEMBL3798944</td>\n",
              "      <td>CC(C)(O)Cn1cc(-c2ccc(-c3cncc(Cl)c3N3CCC4(CCNC4...</td>\n",
              "      <td>active</td>\n",
              "      <td>480.012</td>\n",
              "      <td>4.1429</td>\n",
              "      <td>2.0</td>\n",
              "      <td>6.0</td>\n",
              "      <td>8.853872</td>\n",
              "    </tr>\n",
              "    <tr>\n",
              "      <th>4</th>\n",
              "      <td>CHEMBL3798318</td>\n",
              "      <td>O=C1NCCC12CCN(c1c(Cl)cncc1-c1ccc(-c3cnn(CCN4CC...</td>\n",
              "      <td>active</td>\n",
              "      <td>505.066</td>\n",
              "      <td>4.4678</td>\n",
              "      <td>1.0</td>\n",
              "      <td>6.0</td>\n",
              "      <td>7.686133</td>\n",
              "    </tr>\n",
              "    <tr>\n",
              "      <th>...</th>\n",
              "      <td>...</td>\n",
              "      <td>...</td>\n",
              "      <td>...</td>\n",
              "      <td>...</td>\n",
              "      <td>...</td>\n",
              "      <td>...</td>\n",
              "      <td>...</td>\n",
              "      <td>...</td>\n",
              "    </tr>\n",
              "    <tr>\n",
              "      <th>116</th>\n",
              "      <td>CHEMBL4849842</td>\n",
              "      <td>Cn1ncc2cc(-c3cnc4[nH]ccc4c3N3CCC4(CCCNC4=O)CC3...</td>\n",
              "      <td>active</td>\n",
              "      <td>414.513</td>\n",
              "      <td>3.6132</td>\n",
              "      <td>2.0</td>\n",
              "      <td>5.0</td>\n",
              "      <td>8.522879</td>\n",
              "    </tr>\n",
              "    <tr>\n",
              "      <th>117</th>\n",
              "      <td>CHEMBL4878356</td>\n",
              "      <td>Cn1ncc2cc(-c3cnc4[nH]ccc4c3N3CCC4(CC3)CNC4=O)c...</td>\n",
              "      <td>active</td>\n",
              "      <td>386.459</td>\n",
              "      <td>2.8330</td>\n",
              "      <td>2.0</td>\n",
              "      <td>5.0</td>\n",
              "      <td>8.221849</td>\n",
              "    </tr>\n",
              "    <tr>\n",
              "      <th>118</th>\n",
              "      <td>CHEMBL4862777</td>\n",
              "      <td>Cn1ncc2cc(-c3cnc4[nH]ccc4c3N3CCC4(CC3)CNC(=O)O...</td>\n",
              "      <td>active</td>\n",
              "      <td>402.458</td>\n",
              "      <td>3.1954</td>\n",
              "      <td>2.0</td>\n",
              "      <td>6.0</td>\n",
              "      <td>8.221849</td>\n",
              "    </tr>\n",
              "    <tr>\n",
              "      <th>119</th>\n",
              "      <td>CHEMBL4853002</td>\n",
              "      <td>CCOC(=O)/C=C/c1ccncc1-c1ccc2cc[nH]c2c1</td>\n",
              "      <td>active</td>\n",
              "      <td>292.338</td>\n",
              "      <td>3.8062</td>\n",
              "      <td>1.0</td>\n",
              "      <td>3.0</td>\n",
              "      <td>7.339704</td>\n",
              "    </tr>\n",
              "    <tr>\n",
              "      <th>120</th>\n",
              "      <td>CHEMBL4849822</td>\n",
              "      <td>CNC(=O)/C=C/c1ccncc1-c1ccc2cc[nH]c2c1</td>\n",
              "      <td>active</td>\n",
              "      <td>277.327</td>\n",
              "      <td>2.9891</td>\n",
              "      <td>2.0</td>\n",
              "      <td>2.0</td>\n",
              "      <td>7.549905</td>\n",
              "    </tr>\n",
              "  </tbody>\n",
              "</table>\n",
              "<p>119 rows × 8 columns</p>\n",
              "</div>"
            ],
            "text/plain": [
              "    molecule_chembl_id                                   canonical_smiles  \\\n",
              "0        CHEMBL3775576         CNC(=O)c1ccc2[nH]nc(Cc3ccc4c(cnn4C)c3)c2c1   \n",
              "1        CHEMBL3775317  Cn1cc(-c2ccc(Cc3n[nH]c4ccc(C(=O)N5CC[C@@H](O)C...   \n",
              "2        CHEMBL3798663  O=C1NCCC12CCN(c1c(Cl)cncc1-c1ccc(-c3cnn(CCO)c3...   \n",
              "3        CHEMBL3798944  CC(C)(O)Cn1cc(-c2ccc(-c3cncc(Cl)c3N3CCC4(CCNC4...   \n",
              "4        CHEMBL3798318  O=C1NCCC12CCN(c1c(Cl)cncc1-c1ccc(-c3cnn(CCN4CC...   \n",
              "..                 ...                                                ...   \n",
              "116      CHEMBL4849842  Cn1ncc2cc(-c3cnc4[nH]ccc4c3N3CCC4(CCCNC4=O)CC3...   \n",
              "117      CHEMBL4878356  Cn1ncc2cc(-c3cnc4[nH]ccc4c3N3CCC4(CC3)CNC4=O)c...   \n",
              "118      CHEMBL4862777  Cn1ncc2cc(-c3cnc4[nH]ccc4c3N3CCC4(CC3)CNC(=O)O...   \n",
              "119      CHEMBL4853002             CCOC(=O)/C=C/c1ccncc1-c1ccc2cc[nH]c2c1   \n",
              "120      CHEMBL4849822              CNC(=O)/C=C/c1ccncc1-c1ccc2cc[nH]c2c1   \n",
              "\n",
              "      class       MW    LogP  NumHDonors  NumHAcceptors     pIC50  \n",
              "0    active  319.368  2.4000         2.0            4.0  7.585027  \n",
              "1    active  401.470  2.7610         2.0            5.0  8.397940  \n",
              "2    active  451.958  3.3643         2.0            6.0  8.602060  \n",
              "3    active  480.012  4.1429         2.0            6.0  8.853872  \n",
              "4    active  505.066  4.4678         1.0            6.0  7.686133  \n",
              "..      ...      ...     ...         ...            ...       ...  \n",
              "116  active  414.513  3.6132         2.0            5.0  8.522879  \n",
              "117  active  386.459  2.8330         2.0            5.0  8.221849  \n",
              "118  active  402.458  3.1954         2.0            6.0  8.221849  \n",
              "119  active  292.338  3.8062         1.0            3.0  7.339704  \n",
              "120  active  277.327  2.9891         2.0            2.0  7.549905  \n",
              "\n",
              "[119 rows x 8 columns]"
            ]
          },
          "execution_count": 22,
          "metadata": {},
          "output_type": "execute_result"
        }
      ],
      "source": [
        "df_2class = df_final[df_final['class'] != 'intermediate']\n",
        "df_2class"
      ]
    },
    {
      "cell_type": "markdown",
      "metadata": {
        "colab_type": "text",
        "id": "GJGRNXXigd1o"
      },
      "source": [
        "Let's write this to CSV file."
      ]
    },
    {
      "cell_type": "code",
      "execution_count": 23,
      "metadata": {
        "colab": {},
        "colab_type": "code",
        "id": "XIiYdeL5ghCo"
      },
      "outputs": [],
      "source": [
        "df_2class.to_csv('Data/05_bioactivity_data_2class_pIC50.csv')"
      ]
    },
    {
      "cell_type": "markdown",
      "metadata": {
        "colab_type": "text",
        "id": "p9vA4-hQQ8sA"
      },
      "source": [
        "---"
      ]
    },
    {
      "cell_type": "markdown",
      "metadata": {
        "colab_type": "text",
        "id": "x0vqbQWfxsZu"
      },
      "source": [
        "## **Exploratory Data Analysis (Chemical Space Analysis) via Lipinski descriptors**"
      ]
    },
    {
      "cell_type": "markdown",
      "metadata": {
        "colab_type": "text",
        "id": "18heJagiyHoF"
      },
      "source": [
        "### **Import library**"
      ]
    },
    {
      "cell_type": "code",
      "execution_count": 24,
      "metadata": {
        "colab": {
          "base_uri": "https://localhost:8080/",
          "height": 51
        },
        "colab_type": "code",
        "id": "0Egq_rNsxtIj",
        "outputId": "33657ad8-3fcc-41cd-83ab-6f4f8c0a9e84"
      },
      "outputs": [],
      "source": [
        "import seaborn as sns\n",
        "sns.set(style='ticks')\n",
        "import matplotlib.pyplot as plt"
      ]
    },
    {
      "cell_type": "markdown",
      "metadata": {
        "colab_type": "text",
        "id": "NiarmFbOdG3H"
      },
      "source": [
        "### **Frequency plot of the 2 bioactivity classes**"
      ]
    },
    {
      "cell_type": "code",
      "execution_count": 25,
      "metadata": {
        "colab": {
          "base_uri": "https://localhost:8080/",
          "height": 367
        },
        "colab_type": "code",
        "id": "w2Ia0iycdMO2",
        "outputId": "fa37bcfd-af06-4e4b-c754-b6fb2b1b4f97"
      },
      "outputs": [
        {
          "data": {
            "image/png": "[encoded data removed]",
            "text/plain": [
              "<Figure size 550x550 with 1 Axes>"
            ]
          },
          "metadata": {},
          "output_type": "display_data"
        }
      ],
      "source": [
        "plt.figure(figsize=(5.5, 5.5))\n",
        "\n",
        "sns.countplot(x='class', data=df_2class, edgecolor='black')\n",
        "\n",
        "plt.xlabel('Bioactivity class', fontsize=14, fontweight='bold')\n",
        "plt.ylabel('Frequency', fontsize=14, fontweight='bold')\n",
        "\n",
        "plt.savefig('plot_bioactivity_class.pdf')"
      ]
    },
    {
      "cell_type": "markdown",
      "metadata": {
        "colab_type": "text",
        "id": "wB68NKVG0j68"
      },
      "source": [
        "### **Scatter plot of MW versus LogP**\n",
        "\n",
        "It can be seen that the 2 bioactivity classes are spanning similar chemical spaces as evident by the scatter plot of MW vs LogP."
      ]
    },
    {
      "cell_type": "code",
      "execution_count": 26,
      "metadata": {
        "colab": {
          "base_uri": "https://localhost:8080/",
          "height": 367
        },
        "colab_type": "code",
        "id": "F79BNwjF0nub",
        "outputId": "a80f9843-848a-4eb0-ff78-e9473d5d2d4b"
      },
      "outputs": [
        {
          "data": {
            "image/png": "[encoded data removed]",
            "text/plain": [
              "<Figure size 550x550 with 1 Axes>"
            ]
          },
          "metadata": {},
          "output_type": "display_data"
        }
      ],
      "source": [
        "plt.figure(figsize=(5.5, 5.5))\n",
        "\n",
        "sns.scatterplot(x='MW', y='LogP', data=df_2class, hue='class', size='pIC50', edgecolor='black', alpha=0.7)\n",
        "\n",
        "plt.xlabel('MW', fontsize=14, fontweight='bold')\n",
        "plt.ylabel('LogP', fontsize=14, fontweight='bold')\n",
        "plt.legend(bbox_to_anchor=(1.05, 1), loc=2, borderaxespad=0)\n",
        "plt.savefig('plot_MW_vs_LogP.pdf')"
      ]
    },
    {
      "cell_type": "markdown",
      "metadata": {
        "colab_type": "text",
        "id": "oLAfyRwHyJfX"
      },
      "source": [
        "### **Box plots**"
      ]
    },
    {
      "cell_type": "markdown",
      "metadata": {
        "colab_type": "text",
        "id": "1n1uIAivyOkY"
      },
      "source": [
        "#### **pIC50 value**"
      ]
    },
    {
      "cell_type": "code",
      "execution_count": 27,
      "metadata": {
        "colab": {
          "base_uri": "https://localhost:8080/",
          "height": 367
        },
        "colab_type": "code",
        "id": "EpPviw0hxue6",
        "outputId": "a6386fee-ae04-4bf0-93cb-c95bcf801432"
      },
      "outputs": [
        {
          "data": {
            "image/png": "[encoded data removed]",
            "text/plain": [
              "<Figure size 550x550 with 1 Axes>"
            ]
          },
          "metadata": {},
          "output_type": "display_data"
        }
      ],
      "source": [
        "plt.figure(figsize=(5.5, 5.5))\n",
        "\n",
        "sns.boxplot(x = 'class', y = 'pIC50', data = df_2class)\n",
        "\n",
        "plt.xlabel('Bioactivity class', fontsize=14, fontweight='bold')\n",
        "plt.ylabel('pIC50 value', fontsize=14, fontweight='bold')\n",
        "\n",
        "plt.savefig('plot_ic50.pdf')"
      ]
    },
    {
      "cell_type": "markdown",
      "metadata": {
        "colab_type": "text",
        "id": "PsOqKyysCZCv"
      },
      "source": [
        "**Statistical analysis | Mann-Whitney U Test**"
      ]
    },
    {
      "cell_type": "code",
      "execution_count": 28,
      "metadata": {
        "colab": {},
        "colab_type": "code",
        "id": "LPdV1vDnWBsh"
      },
      "outputs": [],
      "source": [
        "def mannwhitney(descriptor, verbose=False):\n",
        "  # https://machinelearningmastery.com/nonparametric-statistical-significance-tests-in-python/\n",
        "  from numpy.random import seed\n",
        "  from numpy.random import randn\n",
        "  from scipy.stats import mannwhitneyu\n",
        "\n",
        "# seed the random number generator\n",
        "  seed(1)\n",
        "\n",
        "# actives and inactives\n",
        "  selection = [descriptor, 'class']\n",
        "  df = df_2class[selection]\n",
        "  active = df[df['class'] == 'active']\n",
        "  active = active[descriptor]\n",
        "\n",
        "  selection = [descriptor, 'class']\n",
        "  df = df_2class[selection]\n",
        "  inactive = df[df['class'] == 'inactive']\n",
        "  inactive = inactive[descriptor]\n",
        "\n",
        "# compare samples\n",
        "  stat, p = mannwhitneyu(active, inactive)\n",
        "  #print('Statistics=%.3f, p=%.3f' % (stat, p))\n",
        "\n",
        "# interpret\n",
        "  alpha = 0.05\n",
        "  if p > alpha:\n",
        "    interpretation = 'Same distribution (fail to reject H0)'\n",
        "  else:\n",
        "    interpretation = 'Different distribution (reject H0)'\n",
        "  \n",
        "  results = pd.DataFrame({'Descriptor':descriptor,\n",
        "                          'Statistics':stat,\n",
        "                          'p':p,\n",
        "                          'alpha':alpha,\n",
        "                          'Interpretation':interpretation}, index=[0])\n",
        "  filename = 'mannwhitneyu_' + descriptor + '.csv'\n",
        "  results.to_csv(filename)\n",
        "\n",
        "  return results"
      ]
    },
    {
      "cell_type": "code",
      "execution_count": 29,
      "metadata": {
        "colab": {
          "base_uri": "https://localhost:8080/",
          "height": 80
        },
        "colab_type": "code",
        "id": "HZmUgOmdYVm5",
        "outputId": "3a9ba656-596c-434a-e52f-5696325cd4e7"
      },
      "outputs": [
        {
          "data": {
            "text/html": [
              "<div>\n",
              "<style scoped>\n",
              "    .dataframe tbody tr th:only-of-type {\n",
              "        vertical-align: middle;\n",
              "    }\n",
              "\n",
              "    .dataframe tbody tr th {\n",
              "        vertical-align: top;\n",
              "    }\n",
              "\n",
              "    .dataframe thead th {\n",
              "        text-align: right;\n",
              "    }\n",
              "</style>\n",
              "<table border=\"1\" class=\"dataframe\">\n",
              "  <thead>\n",
              "    <tr style=\"text-align: right;\">\n",
              "      <th></th>\n",
              "      <th>Descriptor</th>\n",
              "      <th>Statistics</th>\n",
              "      <th>p</th>\n",
              "      <th>alpha</th>\n",
              "      <th>Interpretation</th>\n",
              "    </tr>\n",
              "  </thead>\n",
              "  <tbody>\n",
              "    <tr>\n",
              "      <th>0</th>\n",
              "      <td>pIC50</td>\n",
              "      <td>234.0</td>\n",
              "      <td>0.016018</td>\n",
              "      <td>0.05</td>\n",
              "      <td>Different distribution (reject H0)</td>\n",
              "    </tr>\n",
              "  </tbody>\n",
              "</table>\n",
              "</div>"
            ],
            "text/plain": [
              "  Descriptor  Statistics         p  alpha                      Interpretation\n",
              "0      pIC50       234.0  0.016018   0.05  Different distribution (reject H0)"
            ]
          },
          "execution_count": 29,
          "metadata": {},
          "output_type": "execute_result"
        }
      ],
      "source": [
        "mannwhitney('pIC50')"
      ]
    },
    {
      "cell_type": "markdown",
      "metadata": {
        "colab_type": "text",
        "id": "o2UlCwPmyTBq"
      },
      "source": [
        "#### **MW**"
      ]
    },
    {
      "cell_type": "code",
      "execution_count": 30,
      "metadata": {
        "colab": {
          "base_uri": "https://localhost:8080/",
          "height": 370
        },
        "colab_type": "code",
        "id": "ZNlEEsDEx3m6",
        "outputId": "819f291c-d893-4ff6-f4ca-28b46351e999"
      },
      "outputs": [
        {
          "data": {
            "image/png": "[encoded data removed]",
            "text/plain": [
              "<Figure size 550x550 with 1 Axes>"
            ]
          },
          "metadata": {},
          "output_type": "display_data"
        }
      ],
      "source": [
        "plt.figure(figsize=(5.5, 5.5))\n",
        "\n",
        "sns.boxplot(x = 'class', y = 'MW', data = df_2class)\n",
        "\n",
        "plt.xlabel('Bioactivity class', fontsize=14, fontweight='bold')\n",
        "plt.ylabel('MW', fontsize=14, fontweight='bold')\n",
        "\n",
        "plt.savefig('plot_MW.pdf')"
      ]
    },
    {
      "cell_type": "code",
      "execution_count": 31,
      "metadata": {
        "colab": {
          "base_uri": "https://localhost:8080/",
          "height": 80
        },
        "colab_type": "code",
        "id": "wRl2FvgHYqaG",
        "outputId": "01f76db8-fdaf-40af-9161-888f5065b07b"
      },
      "outputs": [
        {
          "data": {
            "text/html": [
              "<div>\n",
              "<style scoped>\n",
              "    .dataframe tbody tr th:only-of-type {\n",
              "        vertical-align: middle;\n",
              "    }\n",
              "\n",
              "    .dataframe tbody tr th {\n",
              "        vertical-align: top;\n",
              "    }\n",
              "\n",
              "    .dataframe thead th {\n",
              "        text-align: right;\n",
              "    }\n",
              "</style>\n",
              "<table border=\"1\" class=\"dataframe\">\n",
              "  <thead>\n",
              "    <tr style=\"text-align: right;\">\n",
              "      <th></th>\n",
              "      <th>Descriptor</th>\n",
              "      <th>Statistics</th>\n",
              "      <th>p</th>\n",
              "      <th>alpha</th>\n",
              "      <th>Interpretation</th>\n",
              "    </tr>\n",
              "  </thead>\n",
              "  <tbody>\n",
              "    <tr>\n",
              "      <th>0</th>\n",
              "      <td>MW</td>\n",
              "      <td>118.0</td>\n",
              "      <td>0.991753</td>\n",
              "      <td>0.05</td>\n",
              "      <td>Same distribution (fail to reject H0)</td>\n",
              "    </tr>\n",
              "  </tbody>\n",
              "</table>\n",
              "</div>"
            ],
            "text/plain": [
              "  Descriptor  Statistics         p  alpha  \\\n",
              "0         MW       118.0  0.991753   0.05   \n",
              "\n",
              "                          Interpretation  \n",
              "0  Same distribution (fail to reject H0)  "
            ]
          },
          "execution_count": 31,
          "metadata": {},
          "output_type": "execute_result"
        }
      ],
      "source": [
        "mannwhitney('MW')"
      ]
    },
    {
      "cell_type": "markdown",
      "metadata": {
        "colab_type": "text",
        "id": "z5hyBhGqyc6J"
      },
      "source": [
        "#### **LogP**"
      ]
    },
    {
      "cell_type": "code",
      "execution_count": 32,
      "metadata": {
        "colab": {
          "base_uri": "https://localhost:8080/",
          "height": 367
        },
        "colab_type": "code",
        "id": "liEtkpI4yX9t",
        "outputId": "63ed7b14-b112-44d5-8f0d-8fe017ec0d43"
      },
      "outputs": [
        {
          "data": {
            "image/png": "[encoded data removed]",
            "text/plain": [
              "<Figure size 550x550 with 1 Axes>"
            ]
          },
          "metadata": {},
          "output_type": "display_data"
        }
      ],
      "source": [
        "plt.figure(figsize=(5.5, 5.5))\n",
        "\n",
        "sns.boxplot(x = 'class', y = 'LogP', data = df_2class)\n",
        "\n",
        "plt.xlabel('Bioactivity class', fontsize=14, fontweight='bold')\n",
        "plt.ylabel('LogP', fontsize=14, fontweight='bold')\n",
        "\n",
        "plt.savefig('plot_LogP.pdf')"
      ]
    },
    {
      "cell_type": "markdown",
      "metadata": {
        "colab_type": "text",
        "id": "2KgV5v_oFLXh"
      },
      "source": [
        "**Statistical analysis | Mann-Whitney U Test**"
      ]
    },
    {
      "cell_type": "code",
      "execution_count": 33,
      "metadata": {
        "colab": {
          "base_uri": "https://localhost:8080/",
          "height": 80
        },
        "colab_type": "code",
        "id": "B61UsGMIFLuE",
        "outputId": "3fd097e7-7a4a-4c6e-bc0c-af010caac7b2"
      },
      "outputs": [
        {
          "data": {
            "text/html": [
              "<div>\n",
              "<style scoped>\n",
              "    .dataframe tbody tr th:only-of-type {\n",
              "        vertical-align: middle;\n",
              "    }\n",
              "\n",
              "    .dataframe tbody tr th {\n",
              "        vertical-align: top;\n",
              "    }\n",
              "\n",
              "    .dataframe thead th {\n",
              "        text-align: right;\n",
              "    }\n",
              "</style>\n",
              "<table border=\"1\" class=\"dataframe\">\n",
              "  <thead>\n",
              "    <tr style=\"text-align: right;\">\n",
              "      <th></th>\n",
              "      <th>Descriptor</th>\n",
              "      <th>Statistics</th>\n",
              "      <th>p</th>\n",
              "      <th>alpha</th>\n",
              "      <th>Interpretation</th>\n",
              "    </tr>\n",
              "  </thead>\n",
              "  <tbody>\n",
              "    <tr>\n",
              "      <th>0</th>\n",
              "      <td>LogP</td>\n",
              "      <td>94.0</td>\n",
              "      <td>0.641827</td>\n",
              "      <td>0.05</td>\n",
              "      <td>Same distribution (fail to reject H0)</td>\n",
              "    </tr>\n",
              "  </tbody>\n",
              "</table>\n",
              "</div>"
            ],
            "text/plain": [
              "  Descriptor  Statistics         p  alpha  \\\n",
              "0       LogP        94.0  0.641827   0.05   \n",
              "\n",
              "                          Interpretation  \n",
              "0  Same distribution (fail to reject H0)  "
            ]
          },
          "execution_count": 33,
          "metadata": {},
          "output_type": "execute_result"
        }
      ],
      "source": [
        "mannwhitney('LogP')"
      ]
    },
    {
      "cell_type": "markdown",
      "metadata": {
        "colab_type": "text",
        "id": "4db7LZLRym2k"
      },
      "source": [
        "#### **NumHDonors**"
      ]
    },
    {
      "cell_type": "code",
      "execution_count": 34,
      "metadata": {
        "colab": {
          "base_uri": "https://localhost:8080/",
          "height": 367
        },
        "colab_type": "code",
        "id": "iru1JPM1yg5A",
        "outputId": "838b8622-b34a-4f93-bec1-9df19fc9f571"
      },
      "outputs": [
        {
          "data": {
            "image/png": "[encoded data removed]",
            "text/plain": [
              "<Figure size 550x550 with 1 Axes>"
            ]
          },
          "metadata": {},
          "output_type": "display_data"
        }
      ],
      "source": [
        "plt.figure(figsize=(5.5, 5.5))\n",
        "\n",
        "sns.boxplot(x = 'class', y = 'NumHDonors', data = df_2class)\n",
        "\n",
        "plt.xlabel('Bioactivity class', fontsize=14, fontweight='bold')\n",
        "plt.ylabel('NumHDonors', fontsize=14, fontweight='bold')\n",
        "\n",
        "plt.savefig('plot_NumHDonors.pdf')"
      ]
    },
    {
      "cell_type": "markdown",
      "metadata": {
        "colab_type": "text",
        "id": "vM5vZWanFe3c"
      },
      "source": [
        "**Statistical analysis | Mann-Whitney U Test**"
      ]
    },
    {
      "cell_type": "code",
      "execution_count": 35,
      "metadata": {
        "colab": {
          "base_uri": "https://localhost:8080/",
          "height": 80
        },
        "colab_type": "code",
        "id": "mS-rOqq7Fd1E",
        "outputId": "d6e88523-ae95-4298-8550-f840fd8b5a36"
      },
      "outputs": [
        {
          "data": {
            "text/html": [
              "<div>\n",
              "<style scoped>\n",
              "    .dataframe tbody tr th:only-of-type {\n",
              "        vertical-align: middle;\n",
              "    }\n",
              "\n",
              "    .dataframe tbody tr th {\n",
              "        vertical-align: top;\n",
              "    }\n",
              "\n",
              "    .dataframe thead th {\n",
              "        text-align: right;\n",
              "    }\n",
              "</style>\n",
              "<table border=\"1\" class=\"dataframe\">\n",
              "  <thead>\n",
              "    <tr style=\"text-align: right;\">\n",
              "      <th></th>\n",
              "      <th>Descriptor</th>\n",
              "      <th>Statistics</th>\n",
              "      <th>p</th>\n",
              "      <th>alpha</th>\n",
              "      <th>Interpretation</th>\n",
              "    </tr>\n",
              "  </thead>\n",
              "  <tbody>\n",
              "    <tr>\n",
              "      <th>0</th>\n",
              "      <td>NumHDonors</td>\n",
              "      <td>165.0</td>\n",
              "      <td>0.274458</td>\n",
              "      <td>0.05</td>\n",
              "      <td>Same distribution (fail to reject H0)</td>\n",
              "    </tr>\n",
              "  </tbody>\n",
              "</table>\n",
              "</div>"
            ],
            "text/plain": [
              "   Descriptor  Statistics         p  alpha  \\\n",
              "0  NumHDonors       165.0  0.274458   0.05   \n",
              "\n",
              "                          Interpretation  \n",
              "0  Same distribution (fail to reject H0)  "
            ]
          },
          "execution_count": 35,
          "metadata": {},
          "output_type": "execute_result"
        }
      ],
      "source": [
        "mannwhitney('NumHDonors')"
      ]
    },
    {
      "cell_type": "markdown",
      "metadata": {
        "colab_type": "text",
        "id": "yOYQ3QiSyu7-"
      },
      "source": [
        "#### **NumHAcceptors**"
      ]
    },
    {
      "cell_type": "code",
      "execution_count": 36,
      "metadata": {
        "colab": {
          "base_uri": "https://localhost:8080/",
          "height": 367
        },
        "colab_type": "code",
        "id": "yCw6tgNCyxHf",
        "outputId": "3de01d96-1e31-4f95-8084-907f15901106"
      },
      "outputs": [
        {
          "data": {
            "image/png": "[encoded data removed]",
            "text/plain": [
              "<Figure size 550x550 with 1 Axes>"
            ]
          },
          "metadata": {},
          "output_type": "display_data"
        }
      ],
      "source": [
        "plt.figure(figsize=(5.5, 5.5))\n",
        "\n",
        "sns.boxplot(x = 'class', y = 'NumHAcceptors', data = df_2class)\n",
        "\n",
        "plt.xlabel('Bioactivity class', fontsize=14, fontweight='bold')\n",
        "plt.ylabel('NumHAcceptors', fontsize=14, fontweight='bold')\n",
        "\n",
        "plt.savefig('plot_NumHAcceptors.pdf')"
      ]
    },
    {
      "cell_type": "code",
      "execution_count": 37,
      "metadata": {
        "colab": {
          "base_uri": "https://localhost:8080/",
          "height": 80
        },
        "colab_type": "code",
        "id": "NEQoDZctFtGG",
        "outputId": "417d0d17-81f6-438f-dae4-70083b319b85"
      },
      "outputs": [
        {
          "data": {
            "text/html": [
              "<div>\n",
              "<style scoped>\n",
              "    .dataframe tbody tr th:only-of-type {\n",
              "        vertical-align: middle;\n",
              "    }\n",
              "\n",
              "    .dataframe tbody tr th {\n",
              "        vertical-align: top;\n",
              "    }\n",
              "\n",
              "    .dataframe thead th {\n",
              "        text-align: right;\n",
              "    }\n",
              "</style>\n",
              "<table border=\"1\" class=\"dataframe\">\n",
              "  <thead>\n",
              "    <tr style=\"text-align: right;\">\n",
              "      <th></th>\n",
              "      <th>Descriptor</th>\n",
              "      <th>Statistics</th>\n",
              "      <th>p</th>\n",
              "      <th>alpha</th>\n",
              "      <th>Interpretation</th>\n",
              "    </tr>\n",
              "  </thead>\n",
              "  <tbody>\n",
              "    <tr>\n",
              "      <th>0</th>\n",
              "      <td>NumHAcceptors</td>\n",
              "      <td>106.0</td>\n",
              "      <td>0.82127</td>\n",
              "      <td>0.05</td>\n",
              "      <td>Same distribution (fail to reject H0)</td>\n",
              "    </tr>\n",
              "  </tbody>\n",
              "</table>\n",
              "</div>"
            ],
            "text/plain": [
              "      Descriptor  Statistics        p  alpha  \\\n",
              "0  NumHAcceptors       106.0  0.82127   0.05   \n",
              "\n",
              "                          Interpretation  \n",
              "0  Same distribution (fail to reject H0)  "
            ]
          },
          "execution_count": 37,
          "metadata": {},
          "output_type": "execute_result"
        }
      ],
      "source": [
        "# save  mannwhitney('NumHAcceptors') in Data folder\n",
        "mannwhitney('NumHAcceptors')\n"
      ]
    },
    {
      "cell_type": "markdown",
      "metadata": {
        "colab_type": "text",
        "id": "p4QjdHVjKYum"
      },
      "source": [
        "#### **Interpretation of Statistical Results**"
      ]
    },
    {
      "cell_type": "markdown",
      "metadata": {
        "colab_type": "text",
        "id": "mSoOBIqfLbDs"
      },
      "source": [
        "##### **Box Plots**\n",
        "\n",
        "###### **pIC50 values**\n",
        "\n",
        "Taking a look at pIC50 values, the **actives** and **inactives** displayed ***statistically significant difference***, which is to be expected since threshold values (``IC50 < 1,000 nM = Actives while IC50 > 10,000 nM = Inactives``, corresponding to ``pIC50 > 6 = Actives and pIC50 < 5 = Inactives``) were used to define actives and inactives.\n",
        "\n",
        "###### **Lipinski's descriptors**\n",
        "\n",
        "All of the 4 Lipinski's descriptors exhibited ***statistically significant difference*** between the **actives** and **inactives**."
      ]
    },
    {
      "cell_type": "markdown",
      "metadata": {
        "colab_type": "text",
        "id": "U-rK8l0wWnKK"
      },
      "source": [
        "## **Zip files**"
      ]
    },
    {
      "cell_type": "code",
      "execution_count": 38,
      "metadata": {
        "colab": {
          "base_uri": "https://localhost:8080/",
          "height": 272
        },
        "colab_type": "code",
        "id": "GW1ZSsfJWqbM",
        "outputId": "cee2f037-c743-4059-9822-c87eba3f0c51"
      },
      "outputs": [
        {
          "name": "stdout",
          "output_type": "stream",
          "text": [
            "  adding: mannwhitneyu_MW.csv (deflated 8%)\n",
            "  adding: plot_MW_vs_LogP.pdf (deflated 14%)\n",
            "  adding: mannwhitneyu_NumHAcceptors.csv (deflated 11%)\n",
            "  adding: mannwhitneyu_NumHDonors.csv (deflated 9%)\n",
            "  adding: mannwhitneyu_LogP.csv (deflated 8%)\n",
            "  adding: plot_ic50.pdf (deflated 36%)\n",
            "  adding: plot_bioactivity_class.pdf (deflated 38%)\n",
            "  adding: plot_NumHAcceptors.pdf (deflated 37%)\n",
            "  adding: plot_LogP.pdf (deflated 38%)\n",
            "  adding: plot_NumHDonors.pdf (deflated 38%)\n",
            "  adding: mannwhitneyu_pIC50.csv (deflated 10%)\n",
            "  adding: plot_MW.pdf (deflated 37%)\n",
            "rm: cannot remove '*.png': No such file or directory\n"
          ]
        }
      ],
      "source": [
        "! zip -r EDA_results.zip . -i *.csv *.pdf *.png\n",
        "! rm *.csv *.pdf *.png\n",
        "! mv EDA_results.zip Data/"
      ]
    }
  ],
  "metadata": {
    "colab": {
      "collapsed_sections": [],
      "name": "CDD-ML-Part-2-Exploratory-Data-Analysis-Acetylcholinesterase.ipynb",
      "provenance": []
    },
    "kernelspec": {
      "display_name": "Python 3",
      "language": "python",
      "name": "python3"
    },
    "language_info": {
      "codemirror_mode": {
        "name": "ipython",
        "version": 3
      },
      "file_extension": ".py",
      "mimetype": "text/x-python",
      "name": "python",
      "nbconvert_exporter": "python",
      "pygments_lexer": "ipython3",
      "version": "3.10.6"
    },
    "vscode": {
      "interpreter": {
        "hash": "916dbcbb3f70747c44a77c7bcd40155683ae19c65e1c03b4aa3499c5328201f1"
      }
    }
  },
  "nbformat": 4,
  "nbformat_minor": 0
}
