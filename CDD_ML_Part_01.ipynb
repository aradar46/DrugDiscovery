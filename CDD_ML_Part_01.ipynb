{
  "cells": [
    {
      "attachments": {},
      "cell_type": "markdown",
      "metadata": {
        "colab_type": "text",
        "id": "wSFbIMb87cHu"
      },
      "source": [
        "# **Bioinformatics Project - Computational Drug Discovery [Part 1] \n",
        "\n",
        "Download Bioactivity Data (Concised version)**\n",
        "\n",
        "In this Jupyter notebook, we will be building a real-life **data science project** that you can include in your **data science portfolio**. Particularly, we will be building a machine learning model using the ChEMBL bioactivity data.\n",
        "\n",
        "In **Part 1**, we will be performing Data Collection and Pre-Processing from the ChEMBL Database.\n",
        "\n",
        "Note for this Concised Version:\n",
        "* Redundant code cells were deleted.\n",
        "* Code cells for saving files to Google Drive has been deleted.\n",
        "\n",
        "---"
      ]
    },
    {
      "cell_type": "markdown",
      "metadata": {
        "colab_type": "text",
        "id": "3iQiERxumDor"
      },
      "source": [
        "## **ChEMBL Database**\n",
        "\n",
        "The [*ChEMBL Database*](https://www.ebi.ac.uk/chembl/) is a database that contains curated bioactivity data of more than 2 million compounds. It is compiled from more than 76,000 documents, 1.2 million assays and the data spans 13,000 targets and 1,800 cells and 33,000 indications.\n",
        "[Data as of March 25, 2020; ChEMBL version 26]."
      ]
    },
    {
      "cell_type": "markdown",
      "metadata": {
        "colab_type": "text",
        "id": "iryGAwAIQ4yf"
      },
      "source": [
        "## **Installing libraries**"
      ]
    },
    {
      "cell_type": "markdown",
      "metadata": {
        "colab_type": "text",
        "id": "toGT1U_B7F2i"
      },
      "source": [
        "Install the ChEMBL web service package so that we can retrieve bioactivity data from the ChEMBL Database."
      ]
    },
    {
      "cell_type": "code",
      "execution_count": 79,
      "metadata": {
        "colab": {
          "base_uri": "https://localhost:8080/",
          "height": 343
        },
        "colab_type": "code",
        "id": "cJGExHQBfLh7",
        "outputId": "dbeeb7ab-426b-481f-ca15-897f6c09451c"
      },
      "outputs": [
        {
          "name": "stdout",
          "output_type": "stream",
          "text": [
            "Defaulting to user installation because normal site-packages is not writeable\n",
            "Requirement already satisfied: chembl_webresource_client in /home/adr/.local/lib/python3.10/site-packages (0.10.8)\n",
            "Requirement already satisfied: requests>=2.18.4 in /home/adr/.local/lib/python3.10/site-packages (from chembl_webresource_client) (2.28.2)\n",
            "Requirement already satisfied: requests-cache~=0.7.0 in /home/adr/.local/lib/python3.10/site-packages (from chembl_webresource_client) (0.7.5)\n",
            "Requirement already satisfied: easydict in /home/adr/.local/lib/python3.10/site-packages (from chembl_webresource_client) (1.10)\n",
            "Requirement already satisfied: urllib3 in /usr/lib/python3/dist-packages (from chembl_webresource_client) (1.26.5)\n",
            "Requirement already satisfied: charset-normalizer<4,>=2 in /home/adr/.local/lib/python3.10/site-packages (from requests>=2.18.4->chembl_webresource_client) (3.0.1)\n",
            "Requirement already satisfied: idna<4,>=2.5 in /usr/lib/python3/dist-packages (from requests>=2.18.4->chembl_webresource_client) (3.3)\n",
            "Requirement already satisfied: certifi>=2017.4.17 in /usr/lib/python3/dist-packages (from requests>=2.18.4->chembl_webresource_client) (2020.6.20)\n",
            "Requirement already satisfied: pyyaml>=5.4 in /usr/lib/python3/dist-packages (from requests-cache~=0.7.0->chembl_webresource_client) (5.4.1)\n",
            "Requirement already satisfied: url-normalize<2.0,>=1.4 in /home/adr/.local/lib/python3.10/site-packages (from requests-cache~=0.7.0->chembl_webresource_client) (1.4.3)\n",
            "Requirement already satisfied: attrs<22.0,>=21.2 in /home/adr/.local/lib/python3.10/site-packages (from requests-cache~=0.7.0->chembl_webresource_client) (21.4.0)\n",
            "Requirement already satisfied: itsdangerous>=2.0.1 in /home/adr/.local/lib/python3.10/site-packages (from requests-cache~=0.7.0->chembl_webresource_client) (2.1.2)\n",
            "Requirement already satisfied: six in /usr/lib/python3/dist-packages (from url-normalize<2.0,>=1.4->requests-cache~=0.7.0->chembl_webresource_client) (1.16.0)\n"
          ]
        }
      ],
      "source": [
        "! pip install chembl_webresource_client"
      ]
    },
    {
      "cell_type": "markdown",
      "metadata": {
        "colab_type": "text",
        "id": "J0kJjL8gb5nX"
      },
      "source": [
        "## **Importing libraries**"
      ]
    },
    {
      "cell_type": "code",
      "execution_count": 80,
      "metadata": {
        "colab": {},
        "colab_type": "code",
        "id": "RXoCvMPPfNrv"
      },
      "outputs": [],
      "source": [
        "# Import necessary libraries\n",
        "import pandas as pd\n",
        "from chembl_webresource_client.new_client import new_client\n",
        "# chembl_webresource_client is a Python client for accessing ChEMBL data via the RESTful web services interface.\n",
        "# this library is used to access ChEMBL database and retrieve bioactivity data for our target of interest.\n",
        "# ChEMBL is a manually curated database of bioactive molecules with drug-like properties.\n",
        "# It brings together chemical, bioactivity and genomic data to aid the translation of genomic\n",
        "# information into effective new drugs."
      ]
    },
    {
      "cell_type": "markdown",
      "metadata": {
        "colab_type": "text",
        "id": "1FgUai1bfigC"
      },
      "source": [
        "## **Search for Target protein**"
      ]
    },
    {
      "cell_type": "code",
      "execution_count": 81,
      "metadata": {
        "colab": {
          "base_uri": "https://localhost:8080/",
          "height": 1000
        },
        "colab_type": "code",
        "id": "Vxtp79so4ZjF",
        "outputId": "92e78250-8b71-4912-f0eb-dd48bb563aaa"
      },
      "outputs": [
        {
          "data": {
            "text/html": [
              "<div>\n",
              "<style scoped>\n",
              "    .dataframe tbody tr th:only-of-type {\n",
              "        vertical-align: middle;\n",
              "    }\n",
              "\n",
              "    .dataframe tbody tr th {\n",
              "        vertical-align: top;\n",
              "    }\n",
              "\n",
              "    .dataframe thead th {\n",
              "        text-align: right;\n",
              "    }\n",
              "</style>\n",
              "<table border=\"1\" class=\"dataframe\">\n",
              "  <thead>\n",
              "    <tr style=\"text-align: right;\">\n",
              "      <th></th>\n",
              "      <th>cross_references</th>\n",
              "      <th>organism</th>\n",
              "      <th>pref_name</th>\n",
              "      <th>score</th>\n",
              "      <th>species_group_flag</th>\n",
              "      <th>target_chembl_id</th>\n",
              "      <th>target_components</th>\n",
              "      <th>target_type</th>\n",
              "      <th>tax_id</th>\n",
              "    </tr>\n",
              "  </thead>\n",
              "  <tbody>\n",
              "    <tr>\n",
              "      <th>0</th>\n",
              "      <td>[]</td>\n",
              "      <td>Coronavirus</td>\n",
              "      <td>Coronavirus</td>\n",
              "      <td>17.0</td>\n",
              "      <td>False</td>\n",
              "      <td>CHEMBL613732</td>\n",
              "      <td>[]</td>\n",
              "      <td>ORGANISM</td>\n",
              "      <td>11119</td>\n",
              "    </tr>\n",
              "    <tr>\n",
              "      <th>1</th>\n",
              "      <td>[]</td>\n",
              "      <td>SARS coronavirus</td>\n",
              "      <td>SARS coronavirus</td>\n",
              "      <td>15.0</td>\n",
              "      <td>False</td>\n",
              "      <td>CHEMBL612575</td>\n",
              "      <td>[]</td>\n",
              "      <td>ORGANISM</td>\n",
              "      <td>227859</td>\n",
              "    </tr>\n",
              "    <tr>\n",
              "      <th>2</th>\n",
              "      <td>[]</td>\n",
              "      <td>Feline coronavirus</td>\n",
              "      <td>Feline coronavirus</td>\n",
              "      <td>15.0</td>\n",
              "      <td>False</td>\n",
              "      <td>CHEMBL612744</td>\n",
              "      <td>[]</td>\n",
              "      <td>ORGANISM</td>\n",
              "      <td>12663</td>\n",
              "    </tr>\n",
              "    <tr>\n",
              "      <th>3</th>\n",
              "      <td>[]</td>\n",
              "      <td>Human coronavirus 229E</td>\n",
              "      <td>Human coronavirus 229E</td>\n",
              "      <td>13.0</td>\n",
              "      <td>False</td>\n",
              "      <td>CHEMBL613837</td>\n",
              "      <td>[]</td>\n",
              "      <td>ORGANISM</td>\n",
              "      <td>11137</td>\n",
              "    </tr>\n",
              "    <tr>\n",
              "      <th>4</th>\n",
              "      <td>[{'xref_id': 'P0C6U8', 'xref_name': None, 'xre...</td>\n",
              "      <td>SARS coronavirus</td>\n",
              "      <td>SARS coronavirus 3C-like proteinase</td>\n",
              "      <td>10.0</td>\n",
              "      <td>False</td>\n",
              "      <td>CHEMBL3927</td>\n",
              "      <td>[{'accession': 'P0C6U8', 'component_descriptio...</td>\n",
              "      <td>SINGLE PROTEIN</td>\n",
              "      <td>227859</td>\n",
              "    </tr>\n",
              "    <tr>\n",
              "      <th>5</th>\n",
              "      <td>[]</td>\n",
              "      <td>Middle East respiratory syndrome-related coron...</td>\n",
              "      <td>Middle East respiratory syndrome-related coron...</td>\n",
              "      <td>9.0</td>\n",
              "      <td>False</td>\n",
              "      <td>CHEMBL4296578</td>\n",
              "      <td>[]</td>\n",
              "      <td>ORGANISM</td>\n",
              "      <td>1335626</td>\n",
              "    </tr>\n",
              "    <tr>\n",
              "      <th>6</th>\n",
              "      <td>[{'xref_id': 'P0C6X7', 'xref_name': None, 'xre...</td>\n",
              "      <td>SARS coronavirus</td>\n",
              "      <td>Replicase polyprotein 1ab</td>\n",
              "      <td>4.0</td>\n",
              "      <td>False</td>\n",
              "      <td>CHEMBL5118</td>\n",
              "      <td>[{'accession': 'P0C6X7', 'component_descriptio...</td>\n",
              "      <td>SINGLE PROTEIN</td>\n",
              "      <td>227859</td>\n",
              "    </tr>\n",
              "    <tr>\n",
              "      <th>7</th>\n",
              "      <td>[]</td>\n",
              "      <td>Severe acute respiratory syndrome coronavirus 2</td>\n",
              "      <td>Replicase polyprotein 1ab</td>\n",
              "      <td>4.0</td>\n",
              "      <td>False</td>\n",
              "      <td>CHEMBL4523582</td>\n",
              "      <td>[{'accession': 'P0DTD1', 'component_descriptio...</td>\n",
              "      <td>SINGLE PROTEIN</td>\n",
              "      <td>2697049</td>\n",
              "    </tr>\n",
              "  </tbody>\n",
              "</table>\n",
              "</div>"
            ],
            "text/plain": [
              "                                    cross_references  \\\n",
              "0                                                 []   \n",
              "1                                                 []   \n",
              "2                                                 []   \n",
              "3                                                 []   \n",
              "4  [{'xref_id': 'P0C6U8', 'xref_name': None, 'xre...   \n",
              "5                                                 []   \n",
              "6  [{'xref_id': 'P0C6X7', 'xref_name': None, 'xre...   \n",
              "7                                                 []   \n",
              "\n",
              "                                            organism  \\\n",
              "0                                        Coronavirus   \n",
              "1                                   SARS coronavirus   \n",
              "2                                 Feline coronavirus   \n",
              "3                             Human coronavirus 229E   \n",
              "4                                   SARS coronavirus   \n",
              "5  Middle East respiratory syndrome-related coron...   \n",
              "6                                   SARS coronavirus   \n",
              "7    Severe acute respiratory syndrome coronavirus 2   \n",
              "\n",
              "                                           pref_name  score  \\\n",
              "0                                        Coronavirus   17.0   \n",
              "1                                   SARS coronavirus   15.0   \n",
              "2                                 Feline coronavirus   15.0   \n",
              "3                             Human coronavirus 229E   13.0   \n",
              "4                SARS coronavirus 3C-like proteinase   10.0   \n",
              "5  Middle East respiratory syndrome-related coron...    9.0   \n",
              "6                          Replicase polyprotein 1ab    4.0   \n",
              "7                          Replicase polyprotein 1ab    4.0   \n",
              "\n",
              "   species_group_flag target_chembl_id  \\\n",
              "0               False     CHEMBL613732   \n",
              "1               False     CHEMBL612575   \n",
              "2               False     CHEMBL612744   \n",
              "3               False     CHEMBL613837   \n",
              "4               False       CHEMBL3927   \n",
              "5               False    CHEMBL4296578   \n",
              "6               False       CHEMBL5118   \n",
              "7               False    CHEMBL4523582   \n",
              "\n",
              "                                   target_components     target_type   tax_id  \n",
              "0                                                 []        ORGANISM    11119  \n",
              "1                                                 []        ORGANISM   227859  \n",
              "2                                                 []        ORGANISM    12663  \n",
              "3                                                 []        ORGANISM    11137  \n",
              "4  [{'accession': 'P0C6U8', 'component_descriptio...  SINGLE PROTEIN   227859  \n",
              "5                                                 []        ORGANISM  1335626  \n",
              "6  [{'accession': 'P0C6X7', 'component_descriptio...  SINGLE PROTEIN   227859  \n",
              "7  [{'accession': 'P0DTD1', 'component_descriptio...  SINGLE PROTEIN  2697049  "
            ]
          },
          "execution_count": 81,
          "metadata": {},
          "output_type": "execute_result"
        }
      ],
      "source": [
        "# Target search for coronavirus\n",
        "# initialize the target search of chembl\n",
        "target = new_client.target\n",
        "target_query = target.search('coronavirus') # list of dictionaries is returned\n",
        "targets = pd.DataFrame.from_dict(target_query) # convert to dataframe\n",
        "targets"
      ]
    },
    {
      "cell_type": "code",
      "execution_count": 82,
      "metadata": {
        "colab": {
          "base_uri": "https://localhost:8080/",
          "height": 34
        },
        "colab_type": "code",
        "id": "StrcHMVLha7u",
        "outputId": "6cd12d1e-46b2-47ce-efcb-7d3c49fa3712"
      },
      "outputs": [
        {
          "data": {
            "text/plain": [
              "'CHEMBL3927'"
            ]
          },
          "execution_count": 82,
          "metadata": {},
          "output_type": "execute_result"
        }
      ],
      "source": [
        "# Select and retrieve bioactivity data for the target of interest\n",
        "selected_target = targets.target_chembl_id[4]\n",
        "selected_target"
      ]
    },
    {
      "cell_type": "code",
      "execution_count": 83,
      "metadata": {
        "colab": {},
        "colab_type": "code",
        "id": "LeFbV_CsSP8D"
      },
      "outputs": [],
      "source": [
        "# initialize the bioactivity data\n",
        "activity = new_client.activity\n",
        "# retrieve the bioactivity data for the selected target of interest with IC50 as standard type\n",
        "# IC50 is the concentration of a drug required to inhibit the growth of a microorganism by 50%.\n",
        "# The IC50 is a measure of the potency of a drug.\n",
        "# The lower the IC50 value, the more potent the drug.\n",
        "res = activity.filter(target_chembl_id=selected_target).filter(standard_type=\"IC50\")\n",
        "df = pd.DataFrame.from_dict(res)"
      ]
    },
    {
      "cell_type": "code",
      "execution_count": 84,
      "metadata": {
        "colab": {},
        "colab_type": "code",
        "id": "LrzAcEFnYzBY"
      },
      "outputs": [
        {
          "data": {
            "text/plain": [
              "(133, 45)"
            ]
          },
          "execution_count": 84,
          "metadata": {},
          "output_type": "execute_result"
        }
      ],
      "source": [
        "df.shape"
      ]
    },
    {
      "cell_type": "code",
      "execution_count": 85,
      "metadata": {
        "colab": {
          "base_uri": "https://localhost:8080/",
          "height": 779
        },
        "colab_type": "code",
        "id": "s9iUAXFdSkoM",
        "outputId": "bb88ea44-9a54-44bf-b178-07558a80edb6"
      },
      "outputs": [
        {
          "data": {
            "text/html": [
              "<div>\n",
              "<style scoped>\n",
              "    .dataframe tbody tr th:only-of-type {\n",
              "        vertical-align: middle;\n",
              "    }\n",
              "\n",
              "    .dataframe tbody tr th {\n",
              "        vertical-align: top;\n",
              "    }\n",
              "\n",
              "    .dataframe thead th {\n",
              "        text-align: right;\n",
              "    }\n",
              "</style>\n",
              "<table border=\"1\" class=\"dataframe\">\n",
              "  <thead>\n",
              "    <tr style=\"text-align: right;\">\n",
              "      <th></th>\n",
              "      <th>activity_comment</th>\n",
              "      <th>activity_id</th>\n",
              "      <th>activity_properties</th>\n",
              "      <th>assay_chembl_id</th>\n",
              "      <th>assay_description</th>\n",
              "      <th>assay_type</th>\n",
              "      <th>assay_variant_accession</th>\n",
              "      <th>assay_variant_mutation</th>\n",
              "      <th>bao_endpoint</th>\n",
              "      <th>bao_format</th>\n",
              "      <th>...</th>\n",
              "      <th>target_organism</th>\n",
              "      <th>target_pref_name</th>\n",
              "      <th>target_tax_id</th>\n",
              "      <th>text_value</th>\n",
              "      <th>toid</th>\n",
              "      <th>type</th>\n",
              "      <th>units</th>\n",
              "      <th>uo_units</th>\n",
              "      <th>upper_value</th>\n",
              "      <th>value</th>\n",
              "    </tr>\n",
              "  </thead>\n",
              "  <tbody>\n",
              "    <tr>\n",
              "      <th>0</th>\n",
              "      <td>None</td>\n",
              "      <td>1480935</td>\n",
              "      <td>[]</td>\n",
              "      <td>CHEMBL829584</td>\n",
              "      <td>In vitro inhibitory concentration against SARS...</td>\n",
              "      <td>B</td>\n",
              "      <td>None</td>\n",
              "      <td>None</td>\n",
              "      <td>BAO_0000190</td>\n",
              "      <td>BAO_0000357</td>\n",
              "      <td>...</td>\n",
              "      <td>SARS coronavirus</td>\n",
              "      <td>SARS coronavirus 3C-like proteinase</td>\n",
              "      <td>227859</td>\n",
              "      <td>None</td>\n",
              "      <td>None</td>\n",
              "      <td>IC50</td>\n",
              "      <td>uM</td>\n",
              "      <td>UO_0000065</td>\n",
              "      <td>None</td>\n",
              "      <td>7.2</td>\n",
              "    </tr>\n",
              "    <tr>\n",
              "      <th>1</th>\n",
              "      <td>None</td>\n",
              "      <td>1480936</td>\n",
              "      <td>[]</td>\n",
              "      <td>CHEMBL829584</td>\n",
              "      <td>In vitro inhibitory concentration against SARS...</td>\n",
              "      <td>B</td>\n",
              "      <td>None</td>\n",
              "      <td>None</td>\n",
              "      <td>BAO_0000190</td>\n",
              "      <td>BAO_0000357</td>\n",
              "      <td>...</td>\n",
              "      <td>SARS coronavirus</td>\n",
              "      <td>SARS coronavirus 3C-like proteinase</td>\n",
              "      <td>227859</td>\n",
              "      <td>None</td>\n",
              "      <td>None</td>\n",
              "      <td>IC50</td>\n",
              "      <td>uM</td>\n",
              "      <td>UO_0000065</td>\n",
              "      <td>None</td>\n",
              "      <td>9.4</td>\n",
              "    </tr>\n",
              "    <tr>\n",
              "      <th>2</th>\n",
              "      <td>None</td>\n",
              "      <td>1481061</td>\n",
              "      <td>[]</td>\n",
              "      <td>CHEMBL830868</td>\n",
              "      <td>In vitro inhibitory concentration against SARS...</td>\n",
              "      <td>B</td>\n",
              "      <td>None</td>\n",
              "      <td>None</td>\n",
              "      <td>BAO_0000190</td>\n",
              "      <td>BAO_0000357</td>\n",
              "      <td>...</td>\n",
              "      <td>SARS coronavirus</td>\n",
              "      <td>SARS coronavirus 3C-like proteinase</td>\n",
              "      <td>227859</td>\n",
              "      <td>None</td>\n",
              "      <td>None</td>\n",
              "      <td>IC50</td>\n",
              "      <td>uM</td>\n",
              "      <td>UO_0000065</td>\n",
              "      <td>None</td>\n",
              "      <td>13.5</td>\n",
              "    </tr>\n",
              "  </tbody>\n",
              "</table>\n",
              "<p>3 rows × 45 columns</p>\n",
              "</div>"
            ],
            "text/plain": [
              "  activity_comment  activity_id activity_properties assay_chembl_id  \\\n",
              "0             None      1480935                  []    CHEMBL829584   \n",
              "1             None      1480936                  []    CHEMBL829584   \n",
              "2             None      1481061                  []    CHEMBL830868   \n",
              "\n",
              "                                   assay_description assay_type  \\\n",
              "0  In vitro inhibitory concentration against SARS...          B   \n",
              "1  In vitro inhibitory concentration against SARS...          B   \n",
              "2  In vitro inhibitory concentration against SARS...          B   \n",
              "\n",
              "  assay_variant_accession assay_variant_mutation bao_endpoint   bao_format  \\\n",
              "0                    None                   None  BAO_0000190  BAO_0000357   \n",
              "1                    None                   None  BAO_0000190  BAO_0000357   \n",
              "2                    None                   None  BAO_0000190  BAO_0000357   \n",
              "\n",
              "   ...   target_organism                     target_pref_name target_tax_id  \\\n",
              "0  ...  SARS coronavirus  SARS coronavirus 3C-like proteinase        227859   \n",
              "1  ...  SARS coronavirus  SARS coronavirus 3C-like proteinase        227859   \n",
              "2  ...  SARS coronavirus  SARS coronavirus 3C-like proteinase        227859   \n",
              "\n",
              "  text_value  toid  type  units    uo_units upper_value value  \n",
              "0       None  None  IC50     uM  UO_0000065        None   7.2  \n",
              "1       None  None  IC50     uM  UO_0000065        None   9.4  \n",
              "2       None  None  IC50     uM  UO_0000065        None  13.5  \n",
              "\n",
              "[3 rows x 45 columns]"
            ]
          },
          "execution_count": 85,
          "metadata": {},
          "output_type": "execute_result"
        }
      ],
      "source": [
        "# df head show all the columns\n",
        "df.head(3)"
      ]
    },
    {
      "cell_type": "markdown",
      "metadata": {
        "colab_type": "text",
        "id": "fQ78N26Fg15T"
      },
      "source": [
        "Finally we will save the resulting bioactivity data to a CSV file **bioactivity_data.csv**."
      ]
    },
    {
      "cell_type": "code",
      "execution_count": 86,
      "metadata": {
        "colab": {},
        "colab_type": "code",
        "id": "ZvUUEIVxTOH1"
      },
      "outputs": [],
      "source": [
        "df.to_csv('Data/01_bioactivity_data_raw.csv', index=False)"
      ]
    },
    {
      "cell_type": "markdown",
      "metadata": {
        "colab_type": "text",
        "id": "_GXMpFNUOn_8"
      },
      "source": [
        "## **Handling missing data**\n",
        "If any compounds has missing value for the **standard_value** and **canonical_smiles** column then drop it."
      ]
    },
    {
      "cell_type": "code",
      "execution_count": 87,
      "metadata": {
        "colab": {
          "base_uri": "https://localhost:8080/",
          "height": 813
        },
        "colab_type": "code",
        "id": "hkVOdk6ZR396",
        "outputId": "f8a638fe-75d1-4fae-d4c8-b3b1e6458174"
      },
      "outputs": [
        {
          "data": {
            "text/html": [
              "<div>\n",
              "<style scoped>\n",
              "    .dataframe tbody tr th:only-of-type {\n",
              "        vertical-align: middle;\n",
              "    }\n",
              "\n",
              "    .dataframe tbody tr th {\n",
              "        vertical-align: top;\n",
              "    }\n",
              "\n",
              "    .dataframe thead th {\n",
              "        text-align: right;\n",
              "    }\n",
              "</style>\n",
              "<table border=\"1\" class=\"dataframe\">\n",
              "  <thead>\n",
              "    <tr style=\"text-align: right;\">\n",
              "      <th></th>\n",
              "      <th>activity_comment</th>\n",
              "      <th>activity_id</th>\n",
              "      <th>activity_properties</th>\n",
              "      <th>assay_chembl_id</th>\n",
              "      <th>assay_description</th>\n",
              "      <th>assay_type</th>\n",
              "      <th>assay_variant_accession</th>\n",
              "      <th>assay_variant_mutation</th>\n",
              "      <th>bao_endpoint</th>\n",
              "      <th>bao_format</th>\n",
              "      <th>...</th>\n",
              "      <th>target_organism</th>\n",
              "      <th>target_pref_name</th>\n",
              "      <th>target_tax_id</th>\n",
              "      <th>text_value</th>\n",
              "      <th>toid</th>\n",
              "      <th>type</th>\n",
              "      <th>units</th>\n",
              "      <th>uo_units</th>\n",
              "      <th>upper_value</th>\n",
              "      <th>value</th>\n",
              "    </tr>\n",
              "  </thead>\n",
              "  <tbody>\n",
              "    <tr>\n",
              "      <th>0</th>\n",
              "      <td>None</td>\n",
              "      <td>1480935</td>\n",
              "      <td>[]</td>\n",
              "      <td>CHEMBL829584</td>\n",
              "      <td>In vitro inhibitory concentration against SARS...</td>\n",
              "      <td>B</td>\n",
              "      <td>None</td>\n",
              "      <td>None</td>\n",
              "      <td>BAO_0000190</td>\n",
              "      <td>BAO_0000357</td>\n",
              "      <td>...</td>\n",
              "      <td>SARS coronavirus</td>\n",
              "      <td>SARS coronavirus 3C-like proteinase</td>\n",
              "      <td>227859</td>\n",
              "      <td>None</td>\n",
              "      <td>None</td>\n",
              "      <td>IC50</td>\n",
              "      <td>uM</td>\n",
              "      <td>UO_0000065</td>\n",
              "      <td>None</td>\n",
              "      <td>7.2</td>\n",
              "    </tr>\n",
              "    <tr>\n",
              "      <th>1</th>\n",
              "      <td>None</td>\n",
              "      <td>1480936</td>\n",
              "      <td>[]</td>\n",
              "      <td>CHEMBL829584</td>\n",
              "      <td>In vitro inhibitory concentration against SARS...</td>\n",
              "      <td>B</td>\n",
              "      <td>None</td>\n",
              "      <td>None</td>\n",
              "      <td>BAO_0000190</td>\n",
              "      <td>BAO_0000357</td>\n",
              "      <td>...</td>\n",
              "      <td>SARS coronavirus</td>\n",
              "      <td>SARS coronavirus 3C-like proteinase</td>\n",
              "      <td>227859</td>\n",
              "      <td>None</td>\n",
              "      <td>None</td>\n",
              "      <td>IC50</td>\n",
              "      <td>uM</td>\n",
              "      <td>UO_0000065</td>\n",
              "      <td>None</td>\n",
              "      <td>9.4</td>\n",
              "    </tr>\n",
              "    <tr>\n",
              "      <th>2</th>\n",
              "      <td>None</td>\n",
              "      <td>1481061</td>\n",
              "      <td>[]</td>\n",
              "      <td>CHEMBL830868</td>\n",
              "      <td>In vitro inhibitory concentration against SARS...</td>\n",
              "      <td>B</td>\n",
              "      <td>None</td>\n",
              "      <td>None</td>\n",
              "      <td>BAO_0000190</td>\n",
              "      <td>BAO_0000357</td>\n",
              "      <td>...</td>\n",
              "      <td>SARS coronavirus</td>\n",
              "      <td>SARS coronavirus 3C-like proteinase</td>\n",
              "      <td>227859</td>\n",
              "      <td>None</td>\n",
              "      <td>None</td>\n",
              "      <td>IC50</td>\n",
              "      <td>uM</td>\n",
              "      <td>UO_0000065</td>\n",
              "      <td>None</td>\n",
              "      <td>13.5</td>\n",
              "    </tr>\n",
              "  </tbody>\n",
              "</table>\n",
              "<p>3 rows × 45 columns</p>\n",
              "</div>"
            ],
            "text/plain": [
              "  activity_comment  activity_id activity_properties assay_chembl_id  \\\n",
              "0             None      1480935                  []    CHEMBL829584   \n",
              "1             None      1480936                  []    CHEMBL829584   \n",
              "2             None      1481061                  []    CHEMBL830868   \n",
              "\n",
              "                                   assay_description assay_type  \\\n",
              "0  In vitro inhibitory concentration against SARS...          B   \n",
              "1  In vitro inhibitory concentration against SARS...          B   \n",
              "2  In vitro inhibitory concentration against SARS...          B   \n",
              "\n",
              "  assay_variant_accession assay_variant_mutation bao_endpoint   bao_format  \\\n",
              "0                    None                   None  BAO_0000190  BAO_0000357   \n",
              "1                    None                   None  BAO_0000190  BAO_0000357   \n",
              "2                    None                   None  BAO_0000190  BAO_0000357   \n",
              "\n",
              "   ...   target_organism                     target_pref_name target_tax_id  \\\n",
              "0  ...  SARS coronavirus  SARS coronavirus 3C-like proteinase        227859   \n",
              "1  ...  SARS coronavirus  SARS coronavirus 3C-like proteinase        227859   \n",
              "2  ...  SARS coronavirus  SARS coronavirus 3C-like proteinase        227859   \n",
              "\n",
              "  text_value  toid  type  units    uo_units upper_value value  \n",
              "0       None  None  IC50     uM  UO_0000065        None   7.2  \n",
              "1       None  None  IC50     uM  UO_0000065        None   9.4  \n",
              "2       None  None  IC50     uM  UO_0000065        None  13.5  \n",
              "\n",
              "[3 rows x 45 columns]"
            ]
          },
          "execution_count": 87,
          "metadata": {},
          "output_type": "execute_result"
        }
      ],
      "source": [
        "# Remove columns with missing values in the standard_value column\n",
        "df2 = df[df.standard_value.notna()]\n",
        "# Remove columns with missing values in the canonical_smiles column\n",
        "# canonical_smiles is a unique representation of a molecule in the form of a string.\n",
        "# example: Cc1ccccc1C(=O)Nc1ccc(O)cc1\n",
        "# we will use this column to calculate molecular descriptors?\n",
        "# molecular descriptors are numerical values that describe the chemical properties of a molecule.\n",
        "df2 = df2[df.canonical_smiles.notna()]\n",
        "df2.head(3)"
      ]
    },
    {
      "cell_type": "code",
      "execution_count": 88,
      "metadata": {
        "colab": {
          "base_uri": "https://localhost:8080/",
          "height": 34
        },
        "colab_type": "code",
        "id": "wCkuaeVNbdtM",
        "outputId": "9da80bc3-c1cb-4348-ce04-f90f57217995"
      },
      "outputs": [
        {
          "data": {
            "text/plain": [
              "86"
            ]
          },
          "execution_count": 88,
          "metadata": {},
          "output_type": "execute_result"
        }
      ],
      "source": [
        "len(df2.canonical_smiles.unique())"
      ]
    },
    {
      "cell_type": "code",
      "execution_count": 89,
      "metadata": {
        "colab": {
          "base_uri": "https://localhost:8080/",
          "height": 779
        },
        "colab_type": "code",
        "id": "JbAK3K7wclkS",
        "outputId": "1c623da3-bb53-44e8-8704-24161fa54d74"
      },
      "outputs": [
        {
          "data": {
            "text/plain": [
              "(86, 45)"
            ]
          },
          "execution_count": 89,
          "metadata": {},
          "output_type": "execute_result"
        }
      ],
      "source": [
        "df2_nr = df2.drop_duplicates(['canonical_smiles'])\n",
        "df2_nr.shape"
      ]
    },
    {
      "cell_type": "markdown",
      "metadata": {
        "colab_type": "text",
        "id": "5H4sSFAWhV9B"
      },
      "source": [
        "## **Data pre-processing of the bioactivity data**"
      ]
    },
    {
      "attachments": {},
      "cell_type": "markdown",
      "metadata": {
        "colab_type": "text",
        "id": "Nv2dzid_hzKd"
      },
      "source": [
        "**Combine the 3 columns (molecule_chembl_id,canonical_smiles,standard_value) and bioactivity_class into a DataFrame**"
      ]
    },
    {
      "cell_type": "code",
      "execution_count": 90,
      "metadata": {
        "colab": {
          "base_uri": "https://localhost:8080/",
          "height": 419
        },
        "colab_type": "code",
        "id": "0NCLYmrASgha",
        "outputId": "d85ee5a6-e7bc-4be6-a621-6df526d065f9"
      },
      "outputs": [
        {
          "data": {
            "text/html": [
              "<div>\n",
              "<style scoped>\n",
              "    .dataframe tbody tr th:only-of-type {\n",
              "        vertical-align: middle;\n",
              "    }\n",
              "\n",
              "    .dataframe tbody tr th {\n",
              "        vertical-align: top;\n",
              "    }\n",
              "\n",
              "    .dataframe thead th {\n",
              "        text-align: right;\n",
              "    }\n",
              "</style>\n",
              "<table border=\"1\" class=\"dataframe\">\n",
              "  <thead>\n",
              "    <tr style=\"text-align: right;\">\n",
              "      <th></th>\n",
              "      <th>molecule_chembl_id</th>\n",
              "      <th>canonical_smiles</th>\n",
              "      <th>standard_value</th>\n",
              "    </tr>\n",
              "  </thead>\n",
              "  <tbody>\n",
              "    <tr>\n",
              "      <th>0</th>\n",
              "      <td>CHEMBL187579</td>\n",
              "      <td>Cc1noc(C)c1CN1C(=O)C(=O)c2cc(C#N)ccc21</td>\n",
              "      <td>7200.0</td>\n",
              "    </tr>\n",
              "    <tr>\n",
              "      <th>1</th>\n",
              "      <td>CHEMBL188487</td>\n",
              "      <td>O=C1C(=O)N(Cc2ccc(F)cc2Cl)c2ccc(I)cc21</td>\n",
              "      <td>9400.0</td>\n",
              "    </tr>\n",
              "    <tr>\n",
              "      <th>2</th>\n",
              "      <td>CHEMBL185698</td>\n",
              "      <td>O=C1C(=O)N(CC2COc3ccccc3O2)c2ccc(I)cc21</td>\n",
              "      <td>13500.0</td>\n",
              "    </tr>\n",
              "    <tr>\n",
              "      <th>3</th>\n",
              "      <td>CHEMBL426082</td>\n",
              "      <td>O=C1C(=O)N(Cc2cc3ccccc3s2)c2ccccc21</td>\n",
              "      <td>13110.0</td>\n",
              "    </tr>\n",
              "    <tr>\n",
              "      <th>4</th>\n",
              "      <td>CHEMBL187717</td>\n",
              "      <td>O=C1C(=O)N(Cc2cc3ccccc3s2)c2c1cccc2[N+](=O)[O-]</td>\n",
              "      <td>2000.0</td>\n",
              "    </tr>\n",
              "    <tr>\n",
              "      <th>...</th>\n",
              "      <td>...</td>\n",
              "      <td>...</td>\n",
              "      <td>...</td>\n",
              "    </tr>\n",
              "    <tr>\n",
              "      <th>109</th>\n",
              "      <td>CHEMBL2146517</td>\n",
              "      <td>COC(=O)[C@@]1(C)CCCc2c1ccc1c2C(=O)C(=O)c2c(C)c...</td>\n",
              "      <td>21100.0</td>\n",
              "    </tr>\n",
              "    <tr>\n",
              "      <th>110</th>\n",
              "      <td>CHEMBL187460</td>\n",
              "      <td>C[C@H]1COC2=C1C(=O)C(=O)c1c2ccc2c1CCCC2(C)C</td>\n",
              "      <td>226700.0</td>\n",
              "    </tr>\n",
              "    <tr>\n",
              "      <th>111</th>\n",
              "      <td>CHEMBL363535</td>\n",
              "      <td>Cc1coc2c1C(=O)C(=O)c1c-2ccc2c(C)cccc12</td>\n",
              "      <td>38700.0</td>\n",
              "    </tr>\n",
              "    <tr>\n",
              "      <th>112</th>\n",
              "      <td>CHEMBL227075</td>\n",
              "      <td>Cc1cccc2c3c(ccc12)C1=C(C(=O)C3=O)[C@@H](C)CO1</td>\n",
              "      <td>14400.0</td>\n",
              "    </tr>\n",
              "    <tr>\n",
              "      <th>113</th>\n",
              "      <td>CHEMBL45830</td>\n",
              "      <td>CC(C)C1=Cc2ccc3c(c2C(=O)C1=O)CCCC3(C)C</td>\n",
              "      <td>21100.0</td>\n",
              "    </tr>\n",
              "  </tbody>\n",
              "</table>\n",
              "<p>86 rows × 3 columns</p>\n",
              "</div>"
            ],
            "text/plain": [
              "    molecule_chembl_id                                   canonical_smiles  \\\n",
              "0         CHEMBL187579             Cc1noc(C)c1CN1C(=O)C(=O)c2cc(C#N)ccc21   \n",
              "1         CHEMBL188487             O=C1C(=O)N(Cc2ccc(F)cc2Cl)c2ccc(I)cc21   \n",
              "2         CHEMBL185698            O=C1C(=O)N(CC2COc3ccccc3O2)c2ccc(I)cc21   \n",
              "3         CHEMBL426082                O=C1C(=O)N(Cc2cc3ccccc3s2)c2ccccc21   \n",
              "4         CHEMBL187717    O=C1C(=O)N(Cc2cc3ccccc3s2)c2c1cccc2[N+](=O)[O-]   \n",
              "..                 ...                                                ...   \n",
              "109      CHEMBL2146517  COC(=O)[C@@]1(C)CCCc2c1ccc1c2C(=O)C(=O)c2c(C)c...   \n",
              "110       CHEMBL187460        C[C@H]1COC2=C1C(=O)C(=O)c1c2ccc2c1CCCC2(C)C   \n",
              "111       CHEMBL363535             Cc1coc2c1C(=O)C(=O)c1c-2ccc2c(C)cccc12   \n",
              "112       CHEMBL227075      Cc1cccc2c3c(ccc12)C1=C(C(=O)C3=O)[C@@H](C)CO1   \n",
              "113        CHEMBL45830             CC(C)C1=Cc2ccc3c(c2C(=O)C1=O)CCCC3(C)C   \n",
              "\n",
              "    standard_value  \n",
              "0           7200.0  \n",
              "1           9400.0  \n",
              "2          13500.0  \n",
              "3          13110.0  \n",
              "4           2000.0  \n",
              "..             ...  \n",
              "109        21100.0  \n",
              "110       226700.0  \n",
              "111        38700.0  \n",
              "112        14400.0  \n",
              "113        21100.0  \n",
              "\n",
              "[86 rows x 3 columns]"
            ]
          },
          "execution_count": 90,
          "metadata": {},
          "output_type": "execute_result"
        }
      ],
      "source": [
        "selection = ['molecule_chembl_id','canonical_smiles','standard_value']\n",
        "df3 = df2_nr[selection]\n",
        "df3"
      ]
    },
    {
      "cell_type": "markdown",
      "metadata": {
        "colab_type": "text",
        "id": "d0ObVWGmkj_L"
      },
      "source": [
        "Saves dataframe to CSV file"
      ]
    },
    {
      "cell_type": "code",
      "execution_count": 91,
      "metadata": {
        "colab": {},
        "colab_type": "code",
        "id": "pAzJTVu4kMd_"
      },
      "outputs": [],
      "source": [
        "df3.to_csv('Data/02_bioactivity_data_preprocessed.csv', index=False)"
      ]
    },
    {
      "cell_type": "markdown",
      "metadata": {
        "colab_type": "text",
        "id": "tO22XVlzhkXR"
      },
      "source": [
        "### **Labeling compounds as either being active, inactive or intermediate**\n",
        "The bioactivity data is in the IC50 unit. Compounds having values of less than 1000 nM will be considered to be **active** while those greater than 10,000 nM will be considered to be **inactive**. As for those values in between 1,000 and 10,000 nM will be referred to as **intermediate**. "
      ]
    },
    {
      "cell_type": "code",
      "execution_count": 92,
      "metadata": {
        "colab": {},
        "colab_type": "code",
        "id": "Ck9Z2M9CkRy_"
      },
      "outputs": [],
      "source": [
        "df4 = pd.read_csv('Data/02_bioactivity_data_preprocessed.csv')"
      ]
    },
    {
      "cell_type": "code",
      "execution_count": 93,
      "metadata": {},
      "outputs": [
        {
          "data": {
            "text/html": [
              "<div>\n",
              "<style scoped>\n",
              "    .dataframe tbody tr th:only-of-type {\n",
              "        vertical-align: middle;\n",
              "    }\n",
              "\n",
              "    .dataframe tbody tr th {\n",
              "        vertical-align: top;\n",
              "    }\n",
              "\n",
              "    .dataframe thead th {\n",
              "        text-align: right;\n",
              "    }\n",
              "</style>\n",
              "<table border=\"1\" class=\"dataframe\">\n",
              "  <thead>\n",
              "    <tr style=\"text-align: right;\">\n",
              "      <th></th>\n",
              "      <th>molecule_chembl_id</th>\n",
              "      <th>canonical_smiles</th>\n",
              "      <th>standard_value</th>\n",
              "      <th>class</th>\n",
              "    </tr>\n",
              "  </thead>\n",
              "  <tbody>\n",
              "    <tr>\n",
              "      <th>0</th>\n",
              "      <td>CHEMBL187579</td>\n",
              "      <td>Cc1noc(C)c1CN1C(=O)C(=O)c2cc(C#N)ccc21</td>\n",
              "      <td>7200.0</td>\n",
              "      <td>intermediate</td>\n",
              "    </tr>\n",
              "    <tr>\n",
              "      <th>1</th>\n",
              "      <td>CHEMBL188487</td>\n",
              "      <td>O=C1C(=O)N(Cc2ccc(F)cc2Cl)c2ccc(I)cc21</td>\n",
              "      <td>9400.0</td>\n",
              "      <td>intermediate</td>\n",
              "    </tr>\n",
              "    <tr>\n",
              "      <th>2</th>\n",
              "      <td>CHEMBL185698</td>\n",
              "      <td>O=C1C(=O)N(CC2COc3ccccc3O2)c2ccc(I)cc21</td>\n",
              "      <td>13500.0</td>\n",
              "      <td>inactive</td>\n",
              "    </tr>\n",
              "    <tr>\n",
              "      <th>3</th>\n",
              "      <td>CHEMBL426082</td>\n",
              "      <td>O=C1C(=O)N(Cc2cc3ccccc3s2)c2ccccc21</td>\n",
              "      <td>13110.0</td>\n",
              "      <td>inactive</td>\n",
              "    </tr>\n",
              "    <tr>\n",
              "      <th>4</th>\n",
              "      <td>CHEMBL187717</td>\n",
              "      <td>O=C1C(=O)N(Cc2cc3ccccc3s2)c2c1cccc2[N+](=O)[O-]</td>\n",
              "      <td>2000.0</td>\n",
              "      <td>intermediate</td>\n",
              "    </tr>\n",
              "    <tr>\n",
              "      <th>...</th>\n",
              "      <td>...</td>\n",
              "      <td>...</td>\n",
              "      <td>...</td>\n",
              "      <td>...</td>\n",
              "    </tr>\n",
              "    <tr>\n",
              "      <th>81</th>\n",
              "      <td>CHEMBL2146517</td>\n",
              "      <td>COC(=O)[C@@]1(C)CCCc2c1ccc1c2C(=O)C(=O)c2c(C)c...</td>\n",
              "      <td>21100.0</td>\n",
              "      <td>inactive</td>\n",
              "    </tr>\n",
              "    <tr>\n",
              "      <th>82</th>\n",
              "      <td>CHEMBL187460</td>\n",
              "      <td>C[C@H]1COC2=C1C(=O)C(=O)c1c2ccc2c1CCCC2(C)C</td>\n",
              "      <td>226700.0</td>\n",
              "      <td>inactive</td>\n",
              "    </tr>\n",
              "    <tr>\n",
              "      <th>83</th>\n",
              "      <td>CHEMBL363535</td>\n",
              "      <td>Cc1coc2c1C(=O)C(=O)c1c-2ccc2c(C)cccc12</td>\n",
              "      <td>38700.0</td>\n",
              "      <td>inactive</td>\n",
              "    </tr>\n",
              "    <tr>\n",
              "      <th>84</th>\n",
              "      <td>CHEMBL227075</td>\n",
              "      <td>Cc1cccc2c3c(ccc12)C1=C(C(=O)C3=O)[C@@H](C)CO1</td>\n",
              "      <td>14400.0</td>\n",
              "      <td>inactive</td>\n",
              "    </tr>\n",
              "    <tr>\n",
              "      <th>85</th>\n",
              "      <td>CHEMBL45830</td>\n",
              "      <td>CC(C)C1=Cc2ccc3c(c2C(=O)C1=O)CCCC3(C)C</td>\n",
              "      <td>21100.0</td>\n",
              "      <td>inactive</td>\n",
              "    </tr>\n",
              "  </tbody>\n",
              "</table>\n",
              "<p>86 rows × 4 columns</p>\n",
              "</div>"
            ],
            "text/plain": [
              "   molecule_chembl_id                                   canonical_smiles  \\\n",
              "0        CHEMBL187579             Cc1noc(C)c1CN1C(=O)C(=O)c2cc(C#N)ccc21   \n",
              "1        CHEMBL188487             O=C1C(=O)N(Cc2ccc(F)cc2Cl)c2ccc(I)cc21   \n",
              "2        CHEMBL185698            O=C1C(=O)N(CC2COc3ccccc3O2)c2ccc(I)cc21   \n",
              "3        CHEMBL426082                O=C1C(=O)N(Cc2cc3ccccc3s2)c2ccccc21   \n",
              "4        CHEMBL187717    O=C1C(=O)N(Cc2cc3ccccc3s2)c2c1cccc2[N+](=O)[O-]   \n",
              "..                ...                                                ...   \n",
              "81      CHEMBL2146517  COC(=O)[C@@]1(C)CCCc2c1ccc1c2C(=O)C(=O)c2c(C)c...   \n",
              "82       CHEMBL187460        C[C@H]1COC2=C1C(=O)C(=O)c1c2ccc2c1CCCC2(C)C   \n",
              "83       CHEMBL363535             Cc1coc2c1C(=O)C(=O)c1c-2ccc2c(C)cccc12   \n",
              "84       CHEMBL227075      Cc1cccc2c3c(ccc12)C1=C(C(=O)C3=O)[C@@H](C)CO1   \n",
              "85        CHEMBL45830             CC(C)C1=Cc2ccc3c(c2C(=O)C1=O)CCCC3(C)C   \n",
              "\n",
              "    standard_value         class  \n",
              "0           7200.0  intermediate  \n",
              "1           9400.0  intermediate  \n",
              "2          13500.0      inactive  \n",
              "3          13110.0      inactive  \n",
              "4           2000.0  intermediate  \n",
              "..             ...           ...  \n",
              "81         21100.0      inactive  \n",
              "82        226700.0      inactive  \n",
              "83         38700.0      inactive  \n",
              "84         14400.0      inactive  \n",
              "85         21100.0      inactive  \n",
              "\n",
              "[86 rows x 4 columns]"
            ]
          },
          "execution_count": 93,
          "metadata": {},
          "output_type": "execute_result"
        }
      ],
      "source": [
        "# activity_class is a new column that will be created to classify the bioactivity of the molecules\n",
        "# based on the standard_value column\n",
        "def bioactivity_level(value):\n",
        "  if value >= 10000:\n",
        "    return \"inactive\"\n",
        "  elif value <= 1000:\n",
        "    return \"active\"\n",
        "  else:\n",
        "    return \"intermediate\"\n",
        "\n",
        "df5['class'] = df4['standard_value'].apply(lambda x: bioactivity_level(float(x)))\n",
        "df5"
      ]
    },
    {
      "cell_type": "markdown",
      "metadata": {
        "colab_type": "text",
        "id": "9tlgyexWh7YJ"
      },
      "source": [
        "Saves dataframe to CSV file"
      ]
    },
    {
      "cell_type": "code",
      "execution_count": 94,
      "metadata": {
        "colab": {},
        "colab_type": "code",
        "id": "nSNia7suXstR"
      },
      "outputs": [],
      "source": [
        "df5.to_csv('Data/03_bioactivity_data_curated.csv', index=False)"
      ]
    },
    {
      "cell_type": "code",
      "execution_count": 101,
      "metadata": {
        "colab": {
          "base_uri": "https://localhost:8080/",
          "height": 68
        },
        "colab_type": "code",
        "id": "0eCQTu9MnzyH",
        "outputId": "bb0dd61b-5a21-44cb-cb12-f356784c7b7e"
      },
      "outputs": [
        {
          "name": "stdout",
          "output_type": "stream",
          "text": [
            "  adding: Data/01_bioactivity_data_raw.csv (deflated 90%)\n",
            "  adding: Data/02_bioactivity_data_preprocessed.csv (deflated 70%)\n",
            "  adding: Data/03_bioactivity_data_curated.csv (deflated 73%)\n"
          ]
        }
      ],
      "source": [
        "! zip 'Data/bioactivity.zip' Data/*.csv"
      ]
    },
    {
      "cell_type": "code",
      "execution_count": 96,
      "metadata": {
        "colab": {
          "base_uri": "https://localhost:8080/",
          "height": 119
        },
        "colab_type": "code",
        "id": "UuZf5-MEd-H5",
        "outputId": "d27dac4e-a925-4645-9e0d-ab43127b4eb2"
      },
      "outputs": [
        {
          "name": "stdout",
          "output_type": "stream",
          "text": [
            "total 992\n",
            "-rw-rw-r-- 1 adr adr  69403 feb  5 22:20 01_bioactivity_data_raw.csv\n",
            "-rw-rw-r-- 1 adr adr   6106 feb  5 22:20 02_bioactivity_data_preprocessed.csv\n",
            "-rw-rw-r-- 1 adr adr   6892 feb  5 22:20 03_bioactivity_data_curated.csv\n",
            "-rw-rw-r-- 1 adr adr  11109 feb  5 22:20 bioactivity.zip\n",
            "-rw-rw-r-- 1 adr adr  54638 feb  5 22:19 CDD_ML_Part_01.ipynb\n",
            "-rw-rw-r-- 1 adr adr 313244 maj 22  2021 CDD_ML_Part_02.ipynb\n",
            "-rw-rw-r-- 1 adr adr 208719 maj 22  2021 CDD_ML_Part_03.ipynb\n",
            "-rw-rw-r-- 1 adr adr 100076 maj 22  2021 CDD_ML_Part_04.ipynb\n",
            "-rw-rw-r-- 1 adr adr 230778 maj 22  2021 CDD_ML_Part_05.ipynb\n"
          ]
        }
      ],
      "source": [
        "! ls -l"
      ]
    }
  ],
  "metadata": {
    "colab": {
      "collapsed_sections": [],
      "name": "CDD-ML-Part-1-Bioactivity-Data-Concised-Acetylcholinesterase.ipynb",
      "provenance": []
    },
    "kernelspec": {
      "display_name": "Python 3",
      "language": "python",
      "name": "python3"
    },
    "language_info": {
      "codemirror_mode": {
        "name": "ipython",
        "version": 3
      },
      "file_extension": ".py",
      "mimetype": "text/x-python",
      "name": "python",
      "nbconvert_exporter": "python",
      "pygments_lexer": "ipython3",
      "version": "3.10.6"
    },
    "vscode": {
      "interpreter": {
        "hash": "916dbcbb3f70747c44a77c7bcd40155683ae19c65e1c03b4aa3499c5328201f1"
      }
    }
  },
  "nbformat": 4,
  "nbformat_minor": 0
}
